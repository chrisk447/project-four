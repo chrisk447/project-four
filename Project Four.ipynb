{
 "cells": [
  {
   "cell_type": "code",
   "execution_count": 1,
   "metadata": {
    "collapsed": true
   },
   "outputs": [],
   "source": [
    "import pandas as pd\n",
    "import numpy as np\n",
    "import urllib\n",
    "from bs4 import BeautifulSoup\n",
    "import time\n",
    "import re\n",
    "import matplotlib.pyplot as plt\n",
    "import seaborn as sns\n",
    "\n",
    "\n",
    "\n",
    "%matplotlib inline"
   ]
  },
  {
   "cell_type": "code",
   "execution_count": 48,
   "metadata": {
    "collapsed": true
   },
   "outputs": [],
   "source": [
    "# https://www.indeed.com/jobs?q=data+scientist+$20,000&l=New+York&start=30\n",
    "# $20000 means 20k or up\n",
    "# l = location\n",
    "# start increases incrementally by 10. Starting at 00."
   ]
  },
  {
   "cell_type": "markdown",
   "metadata": {},
   "source": [
    "Trialing one page of Indeed to test if my functions work."
   ]
  },
  {
   "cell_type": "code",
   "execution_count": 49,
   "metadata": {
    "collapsed": true
   },
   "outputs": [],
   "source": [
    "# Test one page of url\n",
    "url = 'https://www.indeed.com/jobs?q=data+scientist&start=00'\n",
    "html = urllib.urlopen(url).read()\n",
    "soup = BeautifulSoup(html, 'lxml')"
   ]
  },
  {
   "cell_type": "code",
   "execution_count": 50,
   "metadata": {},
   "outputs": [
    {
     "name": "stdout",
     "output_type": "stream",
     "text": [
      "break\n"
     ]
    }
   ],
   "source": [
    "rows = soup.find_all('span', {'class':'np'})\n",
    "if len(rows) > 1:\n",
    "    print 'pass'\n",
    "elif 'Next' in rows[0].text:\n",
    "    print 'break'\n",
    "else:\n",
    "    print 'what'"
   ]
  },
  {
   "cell_type": "code",
   "execution_count": 51,
   "metadata": {},
   "outputs": [
    {
     "data": {
      "text/plain": [
       "u'Next\\xa0\\xbb'"
      ]
     },
     "execution_count": 51,
     "metadata": {},
     "output_type": "execute_result"
    }
   ],
   "source": [
    "rows[0].text"
   ]
  },
  {
   "cell_type": "markdown",
   "metadata": {},
   "source": [
    "### Function making\n",
    "Defining all my functions for each feature"
   ]
  },
  {
   "cell_type": "code",
   "execution_count": 52,
   "metadata": {},
   "outputs": [
    {
     "name": "stdout",
     "output_type": "stream",
     "text": [
      "Data Scientist\n",
      "Data Scientist\n",
      "Junior Data Scientist\n",
      "Jr Data Scientist\n",
      "Data Scientist\n",
      "Data Scientist/Machine Learning Engineer\n",
      "Data Scientist\n",
      "Data Scientist\n",
      "Data Science Analyst\n",
      "Data Scientist\n",
      "Data Scientist\n",
      "Entry Level Data Scientist\n",
      "Data Scientist (Product)\n",
      "Data Scientist - Interactive Gaming\n",
      "Data Scientist - Machine Learning\n"
     ]
    }
   ],
   "source": [
    "# Trying to get all jobs titles first\n",
    "job_list = []\n",
    "for row in soup.find_all('div', {'id':True, 'data-jk':True}):\n",
    "    jobtitle = row.a.text\n",
    "    print jobtitle\n",
    "    job_list.append(jobtitle)\n",
    "    \n",
    "# Convert to function\n",
    "def job_func(soup, job_list=[]):\n",
    "    for row in soup.find_all('div', {'id':True, 'data-jk':True}):\n",
    "        jobtitle = row.a.text\n",
    "        job_list.append(jobtitle)\n",
    "    return job_list"
   ]
  },
  {
   "cell_type": "code",
   "execution_count": 53,
   "metadata": {},
   "outputs": [
    {
     "name": "stdout",
     "output_type": "stream",
     "text": [
      "Durham, NC\n",
      "Arlington, VA 22209\n",
      "Tempe, AZ 85282\n",
      "Chantilly, VA 20151\n",
      "Kennesaw, GA\n",
      "San Diego, CA 92129\n",
      "Seattle, WA 98103 (Green Lake - Wallingford area)\n",
      "Newark, DE\n",
      "Silver Spring, MD 20910\n",
      "Chicago, IL\n",
      "Kansas City, MO\n",
      "United States\n",
      "New York, NY 10011 (Chelsea area)\n",
      "San Francisco, CA\n",
      "Palo Alto, CA\n"
     ]
    }
   ],
   "source": [
    "# Looking at location\n",
    "location_list = []\n",
    "for row in soup.find_all('div', {'id':True}):\n",
    "    for header in row.find_all('span', {'class':'location'}):\n",
    "        location = header.text\n",
    "        print location\n",
    "        location_list.append(location)\n",
    "        \n",
    "# Convert to function\n",
    "def loc_func(soup, location_list=[]):\n",
    "    for row in soup.find_all('div', {'id':True}):\n",
    "        for header in row.find_all('span', {'class':'location'}):\n",
    "            location = header.text\n",
    "            location_list.append(location)\n",
    "    return location_list"
   ]
  },
  {
   "cell_type": "code",
   "execution_count": 54,
   "metadata": {},
   "outputs": [
    {
     "name": "stdout",
     "output_type": "stream",
     "text": [
      "no salary info\n",
      "no salary info\n",
      "no salary info\n",
      "no salary info\n",
      "no salary info\n",
      "no salary info\n",
      "no salary info\n",
      "$125,000 a year\n",
      "no salary info\n",
      "$110,000 - $125,000 a year\n",
      "no salary info\n",
      "no salary info\n",
      "no salary info\n",
      "no salary info\n",
      "no salary info\n"
     ]
    }
   ],
   "source": [
    "# Looking at salary if there is one\n",
    "salary_list = []\n",
    "for row in soup.find_all('div', {'id':True}):\n",
    "    for block in row.find_all('td', {'class':'snip'}):\n",
    "        try:\n",
    "            salary =  block.find('span', {'class':'no-wrap'}).text\n",
    "            print salary\n",
    "            salary_list.append(salary)\n",
    "        except:\n",
    "            print 'no salary info'\n",
    "            salary_list.append(np.nan)\n",
    "            \n",
    "def sal_func(soup, salary_list=[]):\n",
    "    for row in soup.find_all('div', {'id':True}):\n",
    "        for block in row.find_all('td', {'class':'snip'}):\n",
    "            try:\n",
    "                salary =  block.find('span', {'class':'no-wrap'}).text\n",
    "                salary_list.append(salary)\n",
    "            except:\n",
    "                salary_list.append(np.nan)\n",
    "                \n",
    "    return salary_list"
   ]
  },
  {
   "cell_type": "code",
   "execution_count": 55,
   "metadata": {
    "collapsed": true
   },
   "outputs": [],
   "source": [
    "# Looking at company\n",
    "company_list = []\n",
    "for row in soup.find_all('div', {'id':True}):\n",
    "    for header in row.find_all('span', {'class':'company'}):\n",
    "        company_list.append(header.text.replace('\\n',''))\n",
    "\n",
    "def comp_func(soup, company_list=[]):\n",
    "    for row in soup.find_all('div', {'id':True}):\n",
    "        for header in row.find_all('span', {'class':'company'}):\n",
    "            company_list.append(header.text.replace('\\n',''))\n",
    "    return company_list"
   ]
  },
  {
   "cell_type": "code",
   "execution_count": 56,
   "metadata": {},
   "outputs": [
    {
     "name": "stdout",
     "output_type": "stream",
     "text": [
      "Sponsored\n",
      "Sponsored\n",
      "Sponsored\n",
      "1 day ago\n",
      "3 days ago\n",
      "1 day ago\n",
      "2 days ago\n",
      "2 days ago\n",
      "9 hours ago\n",
      "1 day ago\n",
      "5 days ago\n",
      "1 day ago\n",
      "1 day ago\n",
      "Sponsored\n",
      "Sponsored\n"
     ]
    }
   ],
   "source": [
    "# Looking at days posted/sponsored. Will specify sponsored as np.nan\n",
    "# Time is organized by: hours, days, and more than 30 days. 30+ days will be regarded as 30 days\n",
    "time_list = []\n",
    "for row in soup.find_all('div', {'id':True}):\n",
    "    for header in row.find_all('div', {'class':'result-link-bar'}):\n",
    "        try:\n",
    "            time =  header.find('span', {'class':'date'}).text\n",
    "            print time\n",
    "            if 'days' in time:\n",
    "                days = float(time.split()[0])\n",
    "                time_list.append(round(days,2))\n",
    "            elif 'hours' in time:\n",
    "                hours = float(time.split()[0])/24.\n",
    "                time_list.append(round(hours,2))\n",
    "            else:\n",
    "                time_list.append(30.0)\n",
    "        except:\n",
    "            print 'Sponsored'\n",
    "            time_list.append(np.nan)\n",
    "            \n",
    "def time_func(soup, time_list=[]):\n",
    "    for row in soup.find_all('div', {'id':True}):\n",
    "        for header in row.find_all('div', {'class':'result-link-bar'}):\n",
    "            try:\n",
    "                time =  header.find('span', {'class':'date'}).text\n",
    "                if 'days' in time:\n",
    "                    days = float(time.split()[0])\n",
    "                    time_list.append(days)\n",
    "                elif 'hours' in time:\n",
    "                    hours = float(time.split()[0])/24.\n",
    "                    time_list.append(hours)\n",
    "                else:\n",
    "                    time_list.append(30.0)\n",
    "            except:\n",
    "                time_list.append(np.nan)\n",
    "                \n",
    "    return time_list"
   ]
  },
  {
   "cell_type": "code",
   "execution_count": 58,
   "metadata": {
    "collapsed": true
   },
   "outputs": [],
   "source": [
    "# Get summary of job posting\n",
    "summary_list = []\n",
    "for row in soup.find_all('div', {'id':True}):\n",
    "    for header in row.find_all('span', {'class':'summary'}):\n",
    "        summary_list.append(header.text.replace('\\n',''))\n",
    "\n",
    "def sum_func(soup, summary_list=[]):\n",
    "    for row in soup.find_all('div', {'id':True}):\n",
    "        for header in row.find_all('span', {'class':'summary'}):\n",
    "            summary_list.append(header.text.replace('\\n',''))\n",
    "    return summary_list"
   ]
  },
  {
   "cell_type": "code",
   "execution_count": 59,
   "metadata": {
    "collapsed": true
   },
   "outputs": [],
   "source": [
    "# Ratings and number of reviews\n",
    "rating_list = []\n",
    "for row in soup.find_all('div', {'id':True, 'data-jk':True}):\n",
    "    try:\n",
    "        # Get number of reviews\n",
    "        ratings = row.find('span', {'class':'slNoUnderline'}).text\n",
    "        \n",
    "        # Get actual star count out of 5\n",
    "        # width is a string with format 'width:##.#px'. Trying to pull out ##.# as a float\n",
    "        width = row.find('span', {'style':True})['style']\n",
    "        pixels = re.search('\\d{2}.\\d',width)\n",
    "        stars = round(float(pixels.group())/60. * 5, 2)\n",
    "        rating_list.append((stars, ratings))\n",
    "        \n",
    "    except:\n",
    "        rating_list.append((np.nan, np.nan))\n",
    "\n",
    "def rat_func(soup, rating_list=[], star_list=[], review_list=[]):\n",
    "    for row in soup.find_all('div', {'id':True, 'data-jk':True}):\n",
    "        try:\n",
    "            # Get number of reviews\n",
    "            ratings = row.find('span', {'class':'slNoUnderline'}).text\n",
    "\n",
    "            # Get actual star count out of 5\n",
    "            # width is a string with format 'width:##.#px'. Trying to pull out ##.# as a float\n",
    "            width = row.find('span', {'style':True})['style']\n",
    "            pixels = re.search('\\d{2}.\\d',width)\n",
    "            stars = round(float(pixels.group())/60. * 5, 2)\n",
    "            rating_list.append((stars, ratings))\n",
    "\n",
    "        except:\n",
    "            rating_list.append((np.nan, np.nan))\n",
    "            \n",
    "    star_list = [i[0] for i in rating_list]\n",
    "    review_list = [i[1] for i in rating_list]\n",
    "            \n",
    "    return star_list, review_list"
   ]
  },
  {
   "cell_type": "code",
   "execution_count": 61,
   "metadata": {
    "collapsed": true
   },
   "outputs": [],
   "source": [
    "# Got some information, but df is not clean at all. Let's work easiest to hardest. \n",
    "# Reviews is first\n",
    "\n",
    "def cleaner(row):\n",
    "    try:\n",
    "        # Replace commas with nothing\n",
    "        new_row = row.replace(',', '')\n",
    "\n",
    "        # Get of rid of word 'reviews'\n",
    "        new_row = float(new_row.split()[0])\n",
    "    except:\n",
    "        new_row = np.nan    \n",
    "    \n",
    "    return new_row"
   ]
  },
  {
   "cell_type": "code",
   "execution_count": 62,
   "metadata": {
    "collapsed": true
   },
   "outputs": [],
   "source": [
    "# Make a cleaner for salary. Taking average of range of salary for computation purposes\n",
    "def sal_cleaner(row):\n",
    "    try:\n",
    "        # Replace commas with nothing\n",
    "        new_row = row.replace(',', '')\n",
    "\n",
    "        # Get list of salary split by '-'\n",
    "        split_list = new_row.split('a year')[0]\n",
    "        dol_replace = split_list.replace('$', '')\n",
    "        dol_split = dol_replace.split('-')\n",
    "        \n",
    "        if len(dol_split) > 1:\n",
    "            new_row = 0.5 * (float(dol_split[0]) + float(dol_split[1]))\n",
    "        else:\n",
    "            new_row = float(dol_split[0])\n",
    "    except:\n",
    "        new_row = np.nan    \n",
    "    \n",
    "    return new_row"
   ]
  },
  {
   "cell_type": "code",
   "execution_count": 63,
   "metadata": {
    "collapsed": true
   },
   "outputs": [],
   "source": [
    "# We are going to eventually run this above code multiple times. So better to put in a function\n",
    "def indeed_maker(soup):\n",
    "    df = pd.DataFrame(zip(job_func(soup), \n",
    "                      loc_func(soup), \n",
    "                      sal_func(soup), \n",
    "                      comp_func(soup), \n",
    "                      time_func(soup), \n",
    "                      rat_func(soup)[0], \n",
    "                      rat_func(soup)[1],\n",
    "                      sum_func(soup)), \n",
    "                  columns=['Title', \n",
    "                           'Location', \n",
    "                           'Salary',\n",
    "                           'Company', \n",
    "                           'Post_date', \n",
    "                           'Rating', \n",
    "                           'Reviews',\n",
    "                           'Summary'])\n",
    "    \n",
    "    df.Reviews = df.Reviews.map(cleaner)\n",
    "    df.Salary = df.Salary.map(sal_cleaner)\n",
    "    \n",
    "    return df"
   ]
  },
  {
   "cell_type": "markdown",
   "metadata": {},
   "source": [
    "### Time to run. Tried to run a while loop, but Indeed cuts off at page 100.\n",
    "Even if there are more than 100 page worths, Indeed cuts off.\n",
    "As a result, will have to search through several cities instead of searching without locations."
   ]
  },
  {
   "cell_type": "code",
   "execution_count": 64,
   "metadata": {
    "collapsed": true
   },
   "outputs": [],
   "source": [
    "list_of_cities = ['Atlanta', 'Los+Angeles', 'Seattle', 'Portland', 'San+Francisco', \n",
    "                  'Washington%2C+DC', 'Boston', 'Austin', 'Dallas', 'Houston',\n",
    "                  'Orlando', 'Philadelphia', 'Pittsburgh', 'Cincinnati', 'Miami',\n",
    "                  'New+York+City', 'New+Jersey', 'Kansas+City', 'San Diego',\n",
    "                 'San+Jose', 'Salt+Lake+City', 'Raleigh', 'Minneapolis', 'Oklahoma+City',\n",
    "                 'St.+Louis', 'Detroit', 'Colombus', 'Cleveland', 'Indianapolis', 'Baltimore']"
   ]
  },
  {
   "cell_type": "code",
   "execution_count": 65,
   "metadata": {
    "collapsed": true
   },
   "outputs": [],
   "source": [
    "# Looking for two titles\n",
    "for role in ['data+scientist', 'data+analyst']:\n",
    "    # Looking at a list of cities\n",
    "    for city in list_of_cities:\n",
    "        # Looking through all pages Indeed will allow you to look through\n",
    "        for page in np.linspace(0, 950, 20):\n",
    "            # Page indicator\n",
    "            start = str(int(page))\n",
    "\n",
    "            # Web initializer\n",
    "            url = 'https://www.indeed.com/jobs?q=' + role + '&l=' + city + '&limit=50&start=' + start\n",
    "            html = urllib.urlopen(url).read()\n",
    "            soup = BeautifulSoup(html, 'lxml')\n",
    "\n",
    "            # Function that scrapes all relevant data and creates a dataframe        \n",
    "            ind_df = indeed_maker(soup)\n",
    "            \n",
    "            # More pythonic to break for loop if no next link is available. Could not figure out a way quick enough."
   ]
  },
  {
   "cell_type": "code",
   "execution_count": 66,
   "metadata": {},
   "outputs": [
    {
     "data": {
      "text/html": [
       "<div>\n",
       "<table border=\"1\" class=\"dataframe\">\n",
       "  <thead>\n",
       "    <tr style=\"text-align: right;\">\n",
       "      <th></th>\n",
       "      <th>Salary</th>\n",
       "      <th>Post_date</th>\n",
       "      <th>Rating</th>\n",
       "      <th>Reviews</th>\n",
       "    </tr>\n",
       "  </thead>\n",
       "  <tbody>\n",
       "    <tr>\n",
       "      <th>count</th>\n",
       "      <td>1871.000000</td>\n",
       "      <td>20417.000000</td>\n",
       "      <td>29441.000000</td>\n",
       "      <td>29441.000000</td>\n",
       "    </tr>\n",
       "    <tr>\n",
       "      <th>mean</th>\n",
       "      <td>86023.212453</td>\n",
       "      <td>13.945187</td>\n",
       "      <td>3.904609</td>\n",
       "      <td>1591.476648</td>\n",
       "    </tr>\n",
       "    <tr>\n",
       "      <th>std</th>\n",
       "      <td>38038.561864</td>\n",
       "      <td>9.074210</td>\n",
       "      <td>0.497423</td>\n",
       "      <td>5608.328746</td>\n",
       "    </tr>\n",
       "    <tr>\n",
       "      <th>min</th>\n",
       "      <td>10000.000000</td>\n",
       "      <td>0.083333</td>\n",
       "      <td>1.250000</td>\n",
       "      <td>2.000000</td>\n",
       "    </tr>\n",
       "    <tr>\n",
       "      <th>25%</th>\n",
       "      <td>59889.750000</td>\n",
       "      <td>5.000000</td>\n",
       "      <td>3.550000</td>\n",
       "      <td>27.000000</td>\n",
       "    </tr>\n",
       "    <tr>\n",
       "      <th>50%</th>\n",
       "      <td>77500.000000</td>\n",
       "      <td>12.000000</td>\n",
       "      <td>3.700000</td>\n",
       "      <td>156.000000</td>\n",
       "    </tr>\n",
       "    <tr>\n",
       "      <th>75%</th>\n",
       "      <td>102500.000000</td>\n",
       "      <td>22.000000</td>\n",
       "      <td>4.350000</td>\n",
       "      <td>768.000000</td>\n",
       "    </tr>\n",
       "    <tr>\n",
       "      <th>max</th>\n",
       "      <td>275000.000000</td>\n",
       "      <td>30.000000</td>\n",
       "      <td>5.000000</td>\n",
       "      <td>98543.000000</td>\n",
       "    </tr>\n",
       "  </tbody>\n",
       "</table>\n",
       "</div>"
      ],
      "text/plain": [
       "              Salary     Post_date        Rating       Reviews\n",
       "count    1871.000000  20417.000000  29441.000000  29441.000000\n",
       "mean    86023.212453     13.945187      3.904609   1591.476648\n",
       "std     38038.561864      9.074210      0.497423   5608.328746\n",
       "min     10000.000000      0.083333      1.250000      2.000000\n",
       "25%     59889.750000      5.000000      3.550000     27.000000\n",
       "50%     77500.000000     12.000000      3.700000    156.000000\n",
       "75%    102500.000000     22.000000      4.350000    768.000000\n",
       "max    275000.000000     30.000000      5.000000  98543.000000"
      ]
     },
     "execution_count": 66,
     "metadata": {},
     "output_type": "execute_result"
    }
   ],
   "source": [
    "# Getting rid of row duplicates (sometimes reviews and rating will be different)\n",
    "ind_df.drop_duplicates(subset=['Summary'], inplace=True)\n",
    "ind_df.describe()"
   ]
  },
  {
   "cell_type": "code",
   "execution_count": 69,
   "metadata": {
    "collapsed": true
   },
   "outputs": [],
   "source": [
    "# Saving dataframe as a csv so that I don't have to run code again.\n",
    "ind_df.to_csv('Indeed_0619', encoding='utf-8')"
   ]
  },
  {
   "cell_type": "markdown",
   "metadata": {
    "collapsed": true
   },
   "source": [
    "# Organize all csv files from several days into one and drop duplicates\n",
    "\n",
    "Scraped data from several days in hopes of capturing 1000 salaries.\n",
    "Because csv files were saved, will have to pull from multiple files, concat dataframes, drop duplicates, and finally reset index to get a fresh dataframe to work with."
   ]
  },
  {
   "cell_type": "code",
   "execution_count": 99,
   "metadata": {
    "collapsed": true
   },
   "outputs": [],
   "source": [
    "def read_and_clean(filepath):\n",
    "    df = pd.read_csv(filepath)\n",
    "    df.drop('Unnamed: 0', axis=1, inplace=True)\n",
    "    return df\n",
    "\n",
    "empty_df_list = []\n",
    "paths = ['Indeed_0612', 'Indeed_0615', 'Indeed_0617', 'Indeed_0618', 'Indeed_analyst_0615']\n",
    "for filepath in paths:\n",
    "    empty_df_list.append(read_and_clean(filepath))\n",
    "\n",
    "df = pd.concat(empty_df_list)"
   ]
  },
  {
   "cell_type": "code",
   "execution_count": 100,
   "metadata": {},
   "outputs": [
    {
     "data": {
      "text/html": [
       "<div>\n",
       "<table border=\"1\" class=\"dataframe\">\n",
       "  <thead>\n",
       "    <tr style=\"text-align: right;\">\n",
       "      <th></th>\n",
       "      <th>Title</th>\n",
       "      <th>Location</th>\n",
       "      <th>Salary</th>\n",
       "      <th>Company</th>\n",
       "      <th>Post_date</th>\n",
       "      <th>Rating</th>\n",
       "      <th>Reviews</th>\n",
       "      <th>Summary</th>\n",
       "    </tr>\n",
       "  </thead>\n",
       "  <tbody>\n",
       "    <tr>\n",
       "      <th>0</th>\n",
       "      <td>Data Scientist</td>\n",
       "      <td>Arlington, VA 22209</td>\n",
       "      <td>NaN</td>\n",
       "      <td>Deloitte</td>\n",
       "      <td>NaN</td>\n",
       "      <td>4.25</td>\n",
       "      <td>4610.0</td>\n",
       "      <td>Gathering data from both information systems a...</td>\n",
       "    </tr>\n",
       "    <tr>\n",
       "      <th>1</th>\n",
       "      <td>Data Scientist</td>\n",
       "      <td>Durham, NC</td>\n",
       "      <td>NaN</td>\n",
       "      <td>xometry</td>\n",
       "      <td>NaN</td>\n",
       "      <td>NaN</td>\n",
       "      <td>NaN</td>\n",
       "      <td>Xometry is seeking a data scientist to build t...</td>\n",
       "    </tr>\n",
       "    <tr>\n",
       "      <th>2</th>\n",
       "      <td>Data Scientist</td>\n",
       "      <td>Harrisburg, PA</td>\n",
       "      <td>NaN</td>\n",
       "      <td>Pennsylvania Higher Education Assistance A...</td>\n",
       "      <td>NaN</td>\n",
       "      <td>3.35</td>\n",
       "      <td>201.0</td>\n",
       "      <td>Scrubbing data if required. Assist in text ana...</td>\n",
       "    </tr>\n",
       "    <tr>\n",
       "      <th>3</th>\n",
       "      <td>Data Scientist with PHD</td>\n",
       "      <td>Atlanta, GA</td>\n",
       "      <td>NaN</td>\n",
       "      <td>Norfolk Southern</td>\n",
       "      <td>0.125</td>\n",
       "      <td>NaN</td>\n",
       "      <td>NaN</td>\n",
       "      <td>Work experience with large-scale data:. As a D...</td>\n",
       "    </tr>\n",
       "    <tr>\n",
       "      <th>4</th>\n",
       "      <td>Data Scientist</td>\n",
       "      <td>United States</td>\n",
       "      <td>87500.0</td>\n",
       "      <td>RDM</td>\n",
       "      <td>10.000</td>\n",
       "      <td>4.35</td>\n",
       "      <td>14.0</td>\n",
       "      <td>A deep understanding of algorithms, mathematic...</td>\n",
       "    </tr>\n",
       "  </tbody>\n",
       "</table>\n",
       "</div>"
      ],
      "text/plain": [
       "                     Title             Location   Salary  \\\n",
       "0           Data Scientist  Arlington, VA 22209      NaN   \n",
       "1           Data Scientist           Durham, NC      NaN   \n",
       "2           Data Scientist       Harrisburg, PA      NaN   \n",
       "3  Data Scientist with PHD          Atlanta, GA      NaN   \n",
       "4           Data Scientist        United States  87500.0   \n",
       "\n",
       "                                             Company  Post_date  Rating  \\\n",
       "0                                           Deloitte        NaN    4.25   \n",
       "1                                            xometry        NaN     NaN   \n",
       "2      Pennsylvania Higher Education Assistance A...        NaN    3.35   \n",
       "3                                   Norfolk Southern      0.125     NaN   \n",
       "4                                                RDM     10.000    4.35   \n",
       "\n",
       "   Reviews                                            Summary  \n",
       "0   4610.0  Gathering data from both information systems a...  \n",
       "1      NaN  Xometry is seeking a data scientist to build t...  \n",
       "2    201.0  Scrubbing data if required. Assist in text ana...  \n",
       "3      NaN  Work experience with large-scale data:. As a D...  \n",
       "4     14.0  A deep understanding of algorithms, mathematic...  "
      ]
     },
     "execution_count": 100,
     "metadata": {},
     "output_type": "execute_result"
    }
   ],
   "source": [
    "df.head()"
   ]
  },
  {
   "cell_type": "code",
   "execution_count": 101,
   "metadata": {},
   "outputs": [],
   "source": [
    "# Cleaning step. Drop duplicates & reset index. \n",
    "\n",
    "df.drop_duplicates(['Summary'], inplace=True)\n",
    "df.reset_index(drop=True, inplace=True)"
   ]
  },
  {
   "cell_type": "markdown",
   "metadata": {},
   "source": [
    "### Now to perform some EDA.\n",
    "Will get a general feel for the dataframe and perform any data cleaning that is deemed necessary."
   ]
  },
  {
   "cell_type": "code",
   "execution_count": 102,
   "metadata": {},
   "outputs": [
    {
     "data": {
      "text/html": [
       "<div>\n",
       "<table border=\"1\" class=\"dataframe\">\n",
       "  <thead>\n",
       "    <tr style=\"text-align: right;\">\n",
       "      <th></th>\n",
       "      <th>Salary</th>\n",
       "      <th>Post_date</th>\n",
       "      <th>Rating</th>\n",
       "      <th>Reviews</th>\n",
       "    </tr>\n",
       "  </thead>\n",
       "  <tbody>\n",
       "    <tr>\n",
       "      <th>count</th>\n",
       "      <td>1744.000000</td>\n",
       "      <td>20138.000000</td>\n",
       "      <td>27378.000000</td>\n",
       "      <td>27378.000000</td>\n",
       "    </tr>\n",
       "    <tr>\n",
       "      <th>mean</th>\n",
       "      <td>86023.891628</td>\n",
       "      <td>13.990815</td>\n",
       "      <td>3.909612</td>\n",
       "      <td>1689.057747</td>\n",
       "    </tr>\n",
       "    <tr>\n",
       "      <th>std</th>\n",
       "      <td>38183.969354</td>\n",
       "      <td>9.961603</td>\n",
       "      <td>0.481977</td>\n",
       "      <td>5415.637299</td>\n",
       "    </tr>\n",
       "    <tr>\n",
       "      <th>min</th>\n",
       "      <td>10000.000000</td>\n",
       "      <td>0.083333</td>\n",
       "      <td>1.500000</td>\n",
       "      <td>2.000000</td>\n",
       "    </tr>\n",
       "    <tr>\n",
       "      <th>25%</th>\n",
       "      <td>60000.000000</td>\n",
       "      <td>5.000000</td>\n",
       "      <td>3.600000</td>\n",
       "      <td>24.000000</td>\n",
       "    </tr>\n",
       "    <tr>\n",
       "      <th>50%</th>\n",
       "      <td>77500.000000</td>\n",
       "      <td>13.000000</td>\n",
       "      <td>3.700000</td>\n",
       "      <td>140.000000</td>\n",
       "    </tr>\n",
       "    <tr>\n",
       "      <th>75%</th>\n",
       "      <td>102500.000000</td>\n",
       "      <td>23.000000</td>\n",
       "      <td>4.350000</td>\n",
       "      <td>768.000000</td>\n",
       "    </tr>\n",
       "    <tr>\n",
       "      <th>max</th>\n",
       "      <td>275000.000000</td>\n",
       "      <td>30.000000</td>\n",
       "      <td>5.000000</td>\n",
       "      <td>98543.000000</td>\n",
       "    </tr>\n",
       "  </tbody>\n",
       "</table>\n",
       "</div>"
      ],
      "text/plain": [
       "              Salary     Post_date        Rating       Reviews\n",
       "count    1744.000000  20138.000000  27378.000000  27378.000000\n",
       "mean    86023.891628     13.990815      3.909612   1689.057747\n",
       "std     38183.969354      9.961603      0.481977   5415.637299\n",
       "min     10000.000000      0.083333      1.500000      2.000000\n",
       "25%     60000.000000      5.000000      3.600000     24.000000\n",
       "50%     77500.000000     13.000000      3.700000    140.000000\n",
       "75%    102500.000000     23.000000      4.350000    768.000000\n",
       "max    275000.000000     30.000000      5.000000  98543.000000"
      ]
     },
     "execution_count": 102,
     "metadata": {},
     "output_type": "execute_result"
    }
   ],
   "source": [
    "# In the end, I get 1000+ salaries. These may not all be \"data scientist/analyst\" positions. But it is a good start.\n",
    "\n",
    "df.describe()"
   ]
  },
  {
   "cell_type": "code",
   "execution_count": 103,
   "metadata": {
    "collapsed": true
   },
   "outputs": [],
   "source": [
    "data = df[df.Salary.notnull()]"
   ]
  },
  {
   "cell_type": "code",
   "execution_count": 104,
   "metadata": {},
   "outputs": [
    {
     "data": {
      "text/plain": [
       "<matplotlib.text.Text at 0x1571c748>"
      ]
     },
     "execution_count": 104,
     "metadata": {},
     "output_type": "execute_result"
    },
    {
     "data": {
      "image/png": "[encoded data removed]",
      "text/plain": [
       "<matplotlib.figure.Figure at 0x17320128>"
      ]
     },
     "metadata": {},
     "output_type": "display_data"
    }
   ],
   "source": [
    "data.Reviews.plot(kind='hist')\n",
    "plt.title('Data Scientist/Analyst Number of Reviews')\n",
    "plt.xlabel('Number of Reviews')\n",
    "plt.show()"
   ]
  },
  {
   "cell_type": "code",
   "execution_count": 105,
   "metadata": {},
   "outputs": [],
   "source": [
    "# Seems like code was implemented or written incorrectly. Will have to drop any rows with reviews > 40000\n",
    "# Also realized that when script cannot find reviews #, that means there are 0 reviews, NOT np.nan\n",
    "data.Reviews = data.Reviews.map(lambda x: 0 if np.isnan(x) else x)\n",
    "data = data[data.Reviews < 40000]\n",
    "data.reset_index(drop=True, inplace=True)"
   ]
  },
  {
   "cell_type": "code",
   "execution_count": 106,
   "metadata": {},
   "outputs": [
    {
     "data": {
      "text/plain": [
       "<matplotlib.text.Text at 0xb9590b8>"
      ]
     },
     "execution_count": 106,
     "metadata": {},
     "output_type": "execute_result"
    },
    {
     "data": {
      "image/png": "[encoded data removed]",
      "text/plain": [
       "<matplotlib.figure.Figure at 0xf6ec0b8>"
      ]
     },
     "metadata": {},
     "output_type": "display_data"
    }
   ],
   "source": [
    "data.Reviews.plot(kind='hist')\n",
    "plt.title('Data Scientist/Analyst Number of Reviews')\n",
    "plt.xlabel('Number of Reviews')\n",
    "plt.show()"
   ]
  },
  {
   "cell_type": "code",
   "execution_count": 107,
   "metadata": {},
   "outputs": [
    {
     "data": {
      "text/plain": [
       "<matplotlib.text.Text at 0x120f4828>"
      ]
     },
     "execution_count": 107,
     "metadata": {},
     "output_type": "execute_result"
    },
    {
     "data": {
      "image/png": "[encoded data removed]",
      "text/plain": [
       "<matplotlib.figure.Figure at 0x1583d320>"
      ]
     },
     "metadata": {},
     "output_type": "display_data"
    }
   ],
   "source": [
    "data.Salary.plot(kind='hist')\n",
    "plt.xlabel('Data Scientist/Analyst Salaries ($)')\n",
    "plt.show()"
   ]
  },
  {
   "cell_type": "code",
   "execution_count": 108,
   "metadata": {},
   "outputs": [
    {
     "data": {
      "text/plain": [
       "<matplotlib.text.Text at 0xb5014e0>"
      ]
     },
     "execution_count": 108,
     "metadata": {},
     "output_type": "execute_result"
    },
    {
     "data": {
      "image/png": "[encoded data removed]",
      "text/plain": [
       "<matplotlib.figure.Figure at 0x149448d0>"
      ]
     },
     "metadata": {},
     "output_type": "display_data"
    }
   ],
   "source": [
    "data.Rating.plot(kind='hist')\n",
    "plt.title('Data Scientist/Analyst Company Star Ratings')\n",
    "plt.xlabel('Star Ratings (/5)')\n",
    "plt.show()"
   ]
  },
  {
   "cell_type": "code",
   "execution_count": 109,
   "metadata": {},
   "outputs": [
    {
     "data": {
      "text/html": [
       "<div>\n",
       "<table border=\"1\" class=\"dataframe\">\n",
       "  <thead>\n",
       "    <tr style=\"text-align: right;\">\n",
       "      <th></th>\n",
       "      <th>Salary</th>\n",
       "      <th>Post_date</th>\n",
       "      <th>Rating</th>\n",
       "      <th>Reviews</th>\n",
       "    </tr>\n",
       "  </thead>\n",
       "  <tbody>\n",
       "    <tr>\n",
       "      <th>count</th>\n",
       "      <td>1743.000000</td>\n",
       "      <td>1145.000000</td>\n",
       "      <td>1297.000000</td>\n",
       "      <td>1743.000000</td>\n",
       "    </tr>\n",
       "    <tr>\n",
       "      <th>mean</th>\n",
       "      <td>86035.953528</td>\n",
       "      <td>13.730240</td>\n",
       "      <td>3.886353</td>\n",
       "      <td>1255.317843</td>\n",
       "    </tr>\n",
       "    <tr>\n",
       "      <th>std</th>\n",
       "      <td>38191.603976</td>\n",
       "      <td>9.685828</td>\n",
       "      <td>0.491728</td>\n",
       "      <td>3575.848606</td>\n",
       "    </tr>\n",
       "    <tr>\n",
       "      <th>min</th>\n",
       "      <td>10000.000000</td>\n",
       "      <td>0.083333</td>\n",
       "      <td>2.250000</td>\n",
       "      <td>0.000000</td>\n",
       "    </tr>\n",
       "    <tr>\n",
       "      <th>25%</th>\n",
       "      <td>60000.000000</td>\n",
       "      <td>6.000000</td>\n",
       "      <td>3.550000</td>\n",
       "      <td>0.000000</td>\n",
       "    </tr>\n",
       "    <tr>\n",
       "      <th>50%</th>\n",
       "      <td>77500.000000</td>\n",
       "      <td>13.000000</td>\n",
       "      <td>3.700000</td>\n",
       "      <td>46.000000</td>\n",
       "    </tr>\n",
       "    <tr>\n",
       "      <th>75%</th>\n",
       "      <td>102500.000000</td>\n",
       "      <td>22.000000</td>\n",
       "      <td>4.350000</td>\n",
       "      <td>367.000000</td>\n",
       "    </tr>\n",
       "    <tr>\n",
       "      <th>max</th>\n",
       "      <td>275000.000000</td>\n",
       "      <td>30.000000</td>\n",
       "      <td>5.000000</td>\n",
       "      <td>26252.000000</td>\n",
       "    </tr>\n",
       "  </tbody>\n",
       "</table>\n",
       "</div>"
      ],
      "text/plain": [
       "              Salary    Post_date       Rating       Reviews\n",
       "count    1743.000000  1145.000000  1297.000000   1743.000000\n",
       "mean    86035.953528    13.730240     3.886353   1255.317843\n",
       "std     38191.603976     9.685828     0.491728   3575.848606\n",
       "min     10000.000000     0.083333     2.250000      0.000000\n",
       "25%     60000.000000     6.000000     3.550000      0.000000\n",
       "50%     77500.000000    13.000000     3.700000     46.000000\n",
       "75%    102500.000000    22.000000     4.350000    367.000000\n",
       "max    275000.000000    30.000000     5.000000  26252.000000"
      ]
     },
     "execution_count": 109,
     "metadata": {},
     "output_type": "execute_result"
    }
   ],
   "source": [
    "data.describe()"
   ]
  },
  {
   "cell_type": "code",
   "execution_count": 115,
   "metadata": {},
   "outputs": [
    {
     "data": {
      "text/plain": [
       "<seaborn.axisgrid.PairGrid at 0x1af4b0b8>"
      ]
     },
     "execution_count": 115,
     "metadata": {},
     "output_type": "execute_result"
    },
    {
     "data": {
      "image/png": "[encoded data removed]",
      "text/plain": [
       "<matplotlib.figure.Figure at 0x1b001518>"
      ]
     },
     "metadata": {},
     "output_type": "display_data"
    }
   ],
   "source": [
    "# Pair plot of the numerical data\n",
    "sns.pairplot(data.dropna())\n",
    "plt.show()"
   ]
  },
  {
   "cell_type": "code",
   "execution_count": 116,
   "metadata": {},
   "outputs": [
    {
     "data": {
      "image/png": "[encoded data removed]",
      "text/plain": [
       "<matplotlib.figure.Figure at 0x1cca0358>"
      ]
     },
     "metadata": {},
     "output_type": "display_data"
    }
   ],
   "source": [
    "# Set init variables\n",
    "corr = data[['Salary', 'Post_date', 'Rating', 'Reviews']].corr()\n",
    "\n",
    "# Set the default matplotlib figure size to 7x7:\n",
    "fix, ax = plt.subplots(figsize=(7,7))\n",
    "\n",
    "# Generate a mask for the upper triangle (taken from seaborn example gallery)\n",
    "mask = np.zeros_like(corr, dtype=np.bool)\n",
    "mask[np.triu_indices_from(mask)] = True\n",
    "\n",
    "# Plot the heatmap with seaborn.\n",
    "# Assign the matplotlib axis the function returns. This will let us resize the labels.\n",
    "ax = sns.heatmap(corr, mask=mask, annot=True, ax=ax)\n",
    "\n",
    "# Resize the labels.\n",
    "ax.set_xticklabels(ax.xaxis.get_ticklabels(), fontsize=14, rotation='vertical')\n",
    "ax.set_yticklabels(ax.yaxis.get_ticklabels(), fontsize=14)\n",
    "\n",
    "# If you put plt.show() at the bottom, it prevents those useless printouts from matplotlib.\n",
    "plt.show()"
   ]
  },
  {
   "cell_type": "markdown",
   "metadata": {},
   "source": [
    "### Questions that need to be answered\n",
    "\n",
    "1. Determine the industry factors that are most important in predicting the salary amounts for these data. Will be running a classification on whether lower than median ($77.5k) or equal to or higher. Factors include:\n",
    "    * NLP on summary\n",
    "    * star rating\n",
    "    * number of reviews\n",
    "    * posting date\n",
    "    * NLP on location\n",
    "    * NLP on title\n",
    "2. Determine the factors that distinguish job categories and titles from each other. For example, can required skills accurately predict job title?"
   ]
  },
  {
   "cell_type": "code",
   "execution_count": 385,
   "metadata": {},
   "outputs": [],
   "source": [
    "# Import libraries\n",
    "from nltk.stem import SnowballStemmer\n",
    "from sklearn.model_selection import train_test_split, cross_val_score\n",
    "from sklearn.feature_extraction.text import CountVectorizer, HashingVectorizer, TfidfVectorizer\n",
    "from sklearn.svm import SVC\n",
    "from sklearn.metrics import accuracy_score\n",
    "from sklearn.linear_model import LogisticRegression\n",
    "from sklearn.naive_bayes import BernoulliNB\n",
    "from sklearn.ensemble import RandomForestClassifier\n",
    "from nltk.corpus import stopwords\n",
    "from sklearn.decomposition import PCA\n",
    "from sklearn.preprocessing import StandardScaler"
   ]
  },
  {
   "cell_type": "code",
   "execution_count": 216,
   "metadata": {
    "collapsed": true
   },
   "outputs": [],
   "source": [
    "data['High_salary'] = data.Salary.map(lambda x: 0 if x < 77500.0 else 1)"
   ]
  },
  {
   "cell_type": "code",
   "execution_count": 219,
   "metadata": {},
   "outputs": [
    {
     "data": {
      "text/plain": [
       "0.50143430866322436"
      ]
     },
     "execution_count": 219,
     "metadata": {},
     "output_type": "execute_result"
    }
   ],
   "source": [
    "data.High_salary.mean()"
   ]
  },
  {
   "cell_type": "code",
   "execution_count": 320,
   "metadata": {},
   "outputs": [],
   "source": [
    "# Run a stemmer on Title\n",
    "snow = SnowballStemmer('english')\n",
    "\n",
    "placeholder = pd.Series('Title_token')\n",
    "\n",
    "placeholder.Title_token = data.Title.apply(lambda x: x.decode('utf-8').split(\" \"))\n",
    "data['Title_stem'] = placeholder.Title_token.apply(lambda x: \" \".join([snow.stem(y) for y in x]))"
   ]
  },
  {
   "cell_type": "code",
   "execution_count": 265,
   "metadata": {},
   "outputs": [],
   "source": [
    "# First we will split data into a train/test split.\n",
    "X = data.Title_stem\n",
    "y = data.High_salary\n",
    "X_train, X_test, y_train, y_test = train_test_split(X, y, train_size = .8, random_state=90)"
   ]
  },
  {
   "cell_type": "code",
   "execution_count": 221,
   "metadata": {},
   "outputs": [],
   "source": [
    "# Do a count vectorizer first\n",
    "cvec = CountVectorizer(ngram_range=(1,3))\n",
    "X_train_cv = cvec.fit_transform(X_train)"
   ]
  },
  {
   "cell_type": "code",
   "execution_count": 224,
   "metadata": {},
   "outputs": [
    {
     "name": "stdout",
     "output_type": "stream",
     "text": [
      "0.500716845878\n",
      "0.489971346705\n"
     ]
    }
   ],
   "source": [
    "# Run an SVM model to compare\n",
    "sv = SVC()\n",
    "sv.fit(X_train_cv, y_train)\n",
    "print np.mean(cross_val_score(sv, X_train_cv, y_train, cv=5))\n",
    "print sv.score(cvec.transform(X_test), y_test)"
   ]
  },
  {
   "cell_type": "code",
   "execution_count": 290,
   "metadata": {},
   "outputs": [],
   "source": [
    "# Going to try several vectorizers and models. Better to write a function that will do this in one step.\n",
    "def tokenize_test(text, vect, model, X_train=X_train, X_test=X_test, y_train=y_train, y_test=y_test):\n",
    "    X = data[text]\n",
    "    y=data.High_salary\n",
    "    X_train, X_test, y_train, y_test = train_test_split(X, y, train_size = .8, random_state=90)\n",
    "    X_train_dtm = vect.fit_transform(X_train)\n",
    "    \n",
    "    X_test_dtm = vect.transform(X_test)\n",
    "    model.fit(X_train_dtm, y_train)\n",
    "    y_pred_class = model.predict(X_test_dtm)\n",
    "    print 'Accuracy: ', accuracy_score(y_test, y_pred_class)"
   ]
  },
  {
   "cell_type": "code",
   "execution_count": 294,
   "metadata": {},
   "outputs": [
    {
     "name": "stdout",
     "output_type": "stream",
     "text": [
      "Accuracy:  0.656160458453\n",
      "\n",
      "Accuracy:  0.776504297994\n",
      "\n",
      "Accuracy:  0.744985673352\n",
      "\n"
     ]
    }
   ],
   "source": [
    "model_list = [sv, LogisticRegression(), BernoulliNB()]\n",
    "\n",
    "for i in model_list:\n",
    "    tokenize_test('Title_stem', cvec, i)\n",
    "    print"
   ]
  },
  {
   "cell_type": "code",
   "execution_count": 295,
   "metadata": {},
   "outputs": [
    {
     "name": "stdout",
     "output_type": "stream",
     "text": [
      "Accuracy:  0.699140401146\n",
      "\n",
      "Accuracy:  0.76217765043\n",
      "\n",
      "Accuracy:  0.74212034384\n",
      "\n",
      "Accuracy:  0.587392550143\n",
      "\n",
      "Accuracy:  0.78223495702\n",
      "\n",
      "Accuracy:  0.733524355301\n",
      "\n"
     ]
    }
   ],
   "source": [
    "# Try Hashing & TfidVectorizer\n",
    "hvec = HashingVectorizer(ngram_range=(1,4))\n",
    "tvec = TfidfVectorizer(ngram_range=(1,4))\n",
    "\n",
    "for i in model_list:\n",
    "    tokenize_test('Title_stem', hvec, i)\n",
    "    print\n",
    "\n",
    "for i in model_list:\n",
    "    tokenize_test('Title_stem', tvec, i)\n",
    "    print"
   ]
  },
  {
   "cell_type": "code",
   "execution_count": 342,
   "metadata": {},
   "outputs": [
    {
     "name": "stdout",
     "output_type": "stream",
     "text": [
      "Accuracy:  0.63323782235\n",
      "\n",
      "Accuracy:  0.713467048711\n",
      "\n",
      "Accuracy:  0.724928366762\n",
      "\n",
      "Accuracy:  0.56446991404\n",
      "\n",
      "Accuracy:  0.710601719198\n",
      "\n",
      "Accuracy:  0.69340974212\n",
      "\n",
      "Accuracy:  0.613180515759\n",
      "\n",
      "Accuracy:  0.722063037249\n",
      "\n",
      "Accuracy:  0.724928366762\n",
      "\n"
     ]
    }
   ],
   "source": [
    "for vect in [cvec, hvec, tvec]:\n",
    "    for i in [sv, LogisticRegression(), BernoulliNB()]:\n",
    "        tokenize_test('Summary', vect, i)\n",
    "        print"
   ]
  },
  {
   "cell_type": "code",
   "execution_count": 297,
   "metadata": {},
   "outputs": [
    {
     "name": "stdout",
     "output_type": "stream",
     "text": [
      "Accuracy:  0.54441260745\n",
      "\n",
      "Accuracy:  0.650429799427\n",
      "\n",
      "Accuracy:  0.650429799427\n",
      "\n",
      "Accuracy:  0.656160458453\n",
      "\n",
      "Accuracy:  0.656160458453\n",
      "\n",
      "Accuracy:  0.624641833811\n",
      "\n",
      "Accuracy:  0.664756446991\n",
      "\n",
      "Accuracy:  0.644699140401\n",
      "\n",
      "Accuracy:  0.65329512894\n",
      "\n"
     ]
    }
   ],
   "source": [
    "for vect in [cvec, hvec, tvec]:\n",
    "    for i in [sv, LogisticRegression(), BernoulliNB()]:\n",
    "        tokenize_test('Location', vect, i)\n",
    "        print"
   ]
  },
  {
   "cell_type": "code",
   "execution_count": 298,
   "metadata": {},
   "outputs": [
    {
     "name": "stdout",
     "output_type": "stream",
     "text": [
      "Accuracy:  0.54441260745\n",
      "\n",
      "Accuracy:  0.650429799427\n",
      "\n",
      "Accuracy:  0.650429799427\n",
      "\n",
      "Accuracy:  0.656160458453\n",
      "\n",
      "Accuracy:  0.656160458453\n",
      "\n",
      "Accuracy:  0.624641833811\n",
      "\n",
      "Accuracy:  0.664756446991\n",
      "\n",
      "Accuracy:  0.644699140401\n",
      "\n",
      "Accuracy:  0.65329512894\n",
      "\n"
     ]
    }
   ],
   "source": [
    "for vect in [cvec, hvec, tvec]:\n",
    "    for i in [sv, LogisticRegression(), BernoulliNB()]:\n",
    "        tokenize_test('Location', vect, i)\n",
    "        print"
   ]
  },
  {
   "cell_type": "code",
   "execution_count": 374,
   "metadata": {},
   "outputs": [
    {
     "name": "stdout",
     "output_type": "stream",
     "text": [
      "Accuracy:  0.638968481375\n",
      "Accuracy:  0.644699140401\n"
     ]
    }
   ],
   "source": [
    "tokenize_test('Location', cvec, RandomForestClassifier())\n",
    "tokenize_test('Location', tvec, RandomForestClassifier())"
   ]
  },
  {
   "cell_type": "code",
   "execution_count": 336,
   "metadata": {},
   "outputs": [],
   "source": [
    "# Feature Extractions based on Titles and summaries (if possible)\n",
    "data['Scientist'] = data.Title.map(lambda x: 1 if 'scientist' in x.lower() else 0)\n",
    "data['Analyst'] = data.Title.map(lambda x: 1 if 'analyst' in x.lower() else 0)\n",
    "data['Senior'] = data.Title.map(lambda x: 1 if 'senior' in x.lower() else 1 if 'sr.' in x.lower() else 0)\n",
    "data['Entry'] = data.Title.map(lambda x: 1 if 'entry' in x.lower() else 1 if 'junior' in x.lower() else 1 if 'jr.' in x.lower() else 0)\n",
    "data['Manager'] = data.Title.map(lambda x: 1 if 'manager' in x.lower() else 1 if 'mgr' in x.lower() else 0)"
   ]
  },
  {
   "cell_type": "code",
   "execution_count": 367,
   "metadata": {},
   "outputs": [],
   "source": [
    "# Perform countvectorizer on Summary to get the most common words\n",
    "stop = stopwords.words('english')\n",
    "stop.extend(['data', 'scientist', 'scientists', 'analyst', 'analysis', 'ability', 'analyze', 'analyzing', \n",
    "             'analysts', 'analytics', 'using', 'tools', 'work', 'working', 'including', 'information', \n",
    "             'position', 'company', 'knowledge', 'provide', 'quality', 'related', 'reports', 'reporting',\n",
    "            'science', 'skills', 'services', 'strong'])\n",
    "\n",
    "cv = CountVectorizer(ngram_range=(1,3), stop_words=stop, max_features=50)\n",
    "\n",
    "count_df  = pd.DataFrame(cv.fit_transform(data.Summary).todense(),\n",
    "                   columns=cv.get_feature_names())"
   ]
  },
  {
   "cell_type": "code",
   "execution_count": 369,
   "metadata": {},
   "outputs": [],
   "source": [
    "# The top non-filler words are:\n",
    "top_words = ['financial', 'health', 'machine learning', 'sql']\n",
    "# Machine is related to machine learning (although the pair didn't always come together), and years is related to\n",
    "# years of experience.\n",
    "\n",
    "data['Financial'] = data.Summary.map(lambda x: 1 if 'financial' in x.lower() else 0)\n",
    "data['Health'] = data.Summary.map(lambda x: 1 if 'health' in x.lower() else 0)\n",
    "data['Machine_learning'] = data.Summary.map(lambda x: 1 if 'machine' in x.lower() else 1 if 'machine learning' in x.lower() else 1 if 'machine-learning' in x.lower() else 0)\n",
    "data['SQL'] = data.Summary.map(lambda x: 1 if 'sql' in x.lower() else 0)"
   ]
  },
  {
   "cell_type": "code",
   "execution_count": 386,
   "metadata": {},
   "outputs": [
    {
     "data": {
      "text/plain": [
       "array([[-0.21431581,  0.05817039,  0.44661421, -0.0314818 ,  0.59949819,\n",
       "        -0.60709258,  0.05805919, -0.11555964,  0.07446606],\n",
       "       [-0.32356498,  0.4218444 , -0.29760395, -0.38647471, -0.18007136,\n",
       "        -0.17425518, -0.27814386, -0.01572636,  0.58225451],\n",
       "       [-0.40214281, -0.05081843,  0.03360592,  0.25086277,  0.07739177,\n",
       "         0.02746583, -0.61566521,  0.56883411, -0.24955443],\n",
       "       [-0.17829906, -0.57172581,  0.00543702,  0.5035806 , -0.14282233,\n",
       "        -0.06169947,  0.01606255, -0.09890882,  0.59453349],\n",
       "       [ 0.3592401 , -0.53388683,  0.12286371, -0.60433771,  0.03099573,\n",
       "        -0.09141237, -0.146807  ,  0.38164081,  0.17050772],\n",
       "       [ 0.15053973,  0.32280088,  0.06676818,  0.21988923, -0.04118597,\n",
       "        -0.07934087,  0.50524741,  0.70192467,  0.25369997],\n",
       "       [ 0.7047023 ,  0.26133844,  0.02401025,  0.33332478,  0.11051615,\n",
       "        -0.12067919, -0.50092767, -0.09401188,  0.19201804],\n",
       "       [-0.07203387,  0.17380373,  0.82941689, -0.07625073, -0.35204354,\n",
       "         0.32987088, -0.10997925, -0.07525366,  0.14264935],\n",
       "       [-0.04853019,  0.03833439, -0.05240572, -0.05124184,  0.6655697 ,\n",
       "         0.67711378,  0.01059542,  0.01393384,  0.29838011]])"
      ]
     },
     "execution_count": 386,
     "metadata": {},
     "output_type": "execute_result"
    }
   ],
   "source": [
    "# Perform PCA on all these binaries\n",
    "import patsy\n",
    "y, X = patsy.dmatrices(\"High_salary ~ Financial + Health + Machine_learning + SQL + Scientist + Analyst + Senior + Entry + Manager -1\", data)\n",
    "\n",
    "ss = StandardScaler()\n",
    "X_ss = ss.fit_transform(X)\n",
    "\n",
    "binaries_pca = PCA()\n",
    "binaries_pca.fit(X_ss)\n",
    "binaries_pca.components_"
   ]
  },
  {
   "cell_type": "code",
   "execution_count": 391,
   "metadata": {
    "collapsed": true
   },
   "outputs": [],
   "source": [
    "trans_binaries = binaries_pca.transform(X)"
   ]
  },
  {
   "cell_type": "code",
   "execution_count": 401,
   "metadata": {},
   "outputs": [
    {
     "data": {
      "text/plain": [
       "array(0.6833046471600689)"
      ]
     },
     "execution_count": 401,
     "metadata": {},
     "output_type": "execute_result"
    }
   ],
   "source": [
    "lr = LogisticRegression()\n",
    "lr.fit(trans_binaries, y)\n",
    "lr.score(trans_binaries, y)"
   ]
  }
 ],
 "metadata": {
  "kernelspec": {
   "display_name": "Python 2",
   "language": "python",
   "name": "python2"
  },
  "language_info": {
   "codemirror_mode": {
    "name": "ipython",
    "version": 2
   },
   "file_extension": ".py",
   "mimetype": "text/x-python",
   "name": "python",
   "nbconvert_exporter": "python",
   "pygments_lexer": "ipython2",
   "version": "2.7.13"
  }
 },
 "nbformat": 4,
 "nbformat_minor": 2
}
