{
 "cells": [
  {
   "cell_type": "markdown",
   "metadata": {},
   "source": [
    "# Project Four - Indeed Web Scraper\n",
    "\n",
    "## Business Case Overview\n",
    "\n",
    "You're working as a data scientist for a contracting firm that's rapidly expanding. Now that they have their most valuable employee (you!), they need to leverage data to win more contracts. Your firm offers technology and scientific solutions and wants to be competitive in the hiring market. Your principal has two main objectives:\n",
    "\n",
    "   1. Determine the industry factors that are most important in predicting the salary amounts for these data.\n",
    "   2. Determine the factors that distinguish job categories and titles from each other. For example, can required skills accurately predict job title?\n",
    "\n",
    "To limit the scope, your principal has suggested that you *focus on data-related job postings*, e.g. data scientist, data analyst, research scientist, business intelligence, and any others you might think of. You may also want to decrease the scope by *limiting your search to a single region.*\n",
    "\n",
    "Hint: Aggregators like [Indeed.com](https://www.indeed.com) regularly pool job postings from a variety of markets and industries. \n",
    "\n",
    "**Goal:** Scrape your own data from a job aggregation tool like Indeed.com in order to collect the data to best answer these two questions.\n",
    "\n",
    "---"
   ]
  },
  {
   "cell_type": "markdown",
   "metadata": {},
   "source": [
    "It is better to test on one page of Indeed rather than parse over multiple at one time.\n",
    "\n",
    "The next few blocks will be testing and defining functions of my scraper."
   ]
  },
  {
   "cell_type": "code",
   "execution_count": 2,
   "metadata": {
    "collapsed": true
   },
   "outputs": [],
   "source": [
    "# Import scraping and standard libraries\n",
    "import pandas as pd\n",
    "import numpy as np\n",
    "import urllib\n",
    "from bs4 import BeautifulSoup\n",
    "import time\n",
    "import re\n",
    "import matplotlib.pyplot as plt\n",
    "import seaborn as sns\n",
    "\n",
    "%matplotlib inline"
   ]
  },
  {
   "cell_type": "code",
   "execution_count": 17,
   "metadata": {
    "collapsed": true
   },
   "outputs": [],
   "source": [
    "# https://www.indeed.com/jobs?q=data+scientist+$20,000&l=New+York&start=30\n",
    "# $20000 means 20k or up\n",
    "# l = location\n",
    "# start increases incrementally by 10. Starting at 00."
   ]
  },
  {
   "cell_type": "code",
   "execution_count": 18,
   "metadata": {
    "collapsed": true
   },
   "outputs": [],
   "source": [
    "# Test one page of url\n",
    "url = 'https://www.indeed.com/jobs?q=data+scientist&start=00'\n",
    "html = urllib.urlopen(url).read()\n",
    "soup = BeautifulSoup(html, 'lxml')"
   ]
  },
  {
   "cell_type": "markdown",
   "metadata": {},
   "source": [
    "## Function making\n",
    "\n",
    "Defining all my functions for each feature. Features include:\n",
    "- Job Title\n",
    "- Location\n",
    "- Salary\n",
    "- Rating\n",
    "- Number of Reviews\n",
    "- Summary Prompt"
   ]
  },
  {
   "cell_type": "code",
   "execution_count": 19,
   "metadata": {
    "collapsed": true
   },
   "outputs": [],
   "source": [
    "# Trying to get all jobs titles first\n",
    "job_list = []\n",
    "for row in soup.find_all('div', {'id':True, 'data-jk':True}):\n",
    "    jobtitle = row.a.text\n",
    "#     print jobtitle\n",
    "    job_list.append(jobtitle)\n",
    "    \n",
    "# Convert to function\n",
    "def job_func(soup, job_list=[]):\n",
    "    for row in soup.find_all('div', {'id':True, 'data-jk':True}):\n",
    "        jobtitle = row.a.text\n",
    "        job_list.append(jobtitle)\n",
    "    return job_list"
   ]
  },
  {
   "cell_type": "code",
   "execution_count": 20,
   "metadata": {
    "collapsed": true
   },
   "outputs": [],
   "source": [
    "# Looking at location\n",
    "location_list = []\n",
    "for row in soup.find_all('div', {'id':True}):\n",
    "    for header in row.find_all('span', {'class':'location'}):\n",
    "        location = header.text\n",
    "#         print location\n",
    "        location_list.append(location)\n",
    "        \n",
    "# Convert to function\n",
    "def loc_func(soup, location_list=[]):\n",
    "    for row in soup.find_all('div', {'id':True}):\n",
    "        for header in row.find_all('span', {'class':'location'}):\n",
    "            location = header.text\n",
    "            location_list.append(location)\n",
    "    return location_list"
   ]
  },
  {
   "cell_type": "code",
   "execution_count": 21,
   "metadata": {
    "collapsed": true
   },
   "outputs": [],
   "source": [
    "# Looking at salary if there is one\n",
    "salary_list = []\n",
    "for row in soup.find_all('div', {'id':True}):\n",
    "    for block in row.find_all('td', {'class':'snip'}):\n",
    "        try:\n",
    "            salary =  block.find('span', {'class':'no-wrap'}).text\n",
    "#             print salary\n",
    "            salary_list.append(salary)\n",
    "        except:\n",
    "#             print 'no salary info'\n",
    "            salary_list.append(np.nan)\n",
    "            \n",
    "def sal_func(soup, salary_list=[]):\n",
    "    for row in soup.find_all('div', {'id':True}):\n",
    "        for block in row.find_all('td', {'class':'snip'}):\n",
    "            try:\n",
    "                salary =  block.find('span', {'class':'no-wrap'}).text\n",
    "                salary_list.append(salary)\n",
    "            except:\n",
    "                salary_list.append(np.nan)\n",
    "                \n",
    "    return salary_list"
   ]
  },
  {
   "cell_type": "code",
   "execution_count": 22,
   "metadata": {
    "collapsed": true
   },
   "outputs": [],
   "source": [
    "# Looking at company\n",
    "company_list = []\n",
    "for row in soup.find_all('div', {'id':True}):\n",
    "    for header in row.find_all('span', {'class':'company'}):\n",
    "        company_list.append(header.text.replace('\\n',''))\n",
    "\n",
    "def comp_func(soup, company_list=[]):\n",
    "    for row in soup.find_all('div', {'id':True}):\n",
    "        for header in row.find_all('span', {'class':'company'}):\n",
    "            company_list.append(header.text.replace('\\n',''))\n",
    "    return company_list"
   ]
  },
  {
   "cell_type": "code",
   "execution_count": 23,
   "metadata": {
    "collapsed": true
   },
   "outputs": [],
   "source": [
    "# Looking at days posted/sponsored. Will specify sponsored as np.nan\n",
    "# Time is organized by: hours, days, and more than 30 days. 30+ days will be regarded as 30 days\n",
    "time_list = []\n",
    "for row in soup.find_all('div', {'id':True}):\n",
    "    for header in row.find_all('div', {'class':'result-link-bar'}):\n",
    "        try:\n",
    "            time =  header.find('span', {'class':'date'}).text\n",
    "#             print time\n",
    "            if 'days' in time:\n",
    "                days = float(time.split()[0])\n",
    "                time_list.append(round(days,2))\n",
    "            elif 'hours' in time:\n",
    "                hours = float(time.split()[0])/24.\n",
    "                time_list.append(round(hours,2))\n",
    "            else:\n",
    "                time_list.append(30.0)\n",
    "        except:\n",
    "#             print 'Sponsored'\n",
    "            time_list.append(np.nan)\n",
    "            \n",
    "def time_func(soup, time_list=[]):\n",
    "    for row in soup.find_all('div', {'id':True}):\n",
    "        for header in row.find_all('div', {'class':'result-link-bar'}):\n",
    "            try:\n",
    "                time =  header.find('span', {'class':'date'}).text\n",
    "                if 'days' in time:\n",
    "                    days = float(time.split()[0])\n",
    "                    time_list.append(days)\n",
    "                elif 'hours' in time:\n",
    "                    hours = float(time.split()[0])/24.\n",
    "                    time_list.append(hours)\n",
    "                else:\n",
    "                    time_list.append(30.0)\n",
    "            except:\n",
    "                time_list.append(np.nan)\n",
    "                \n",
    "    return time_list"
   ]
  },
  {
   "cell_type": "code",
   "execution_count": 24,
   "metadata": {
    "collapsed": true
   },
   "outputs": [],
   "source": [
    "# Get summary of job posting\n",
    "summary_list = []\n",
    "for row in soup.find_all('div', {'id':True}):\n",
    "    for header in row.find_all('span', {'class':'summary'}):\n",
    "        summary_list.append(header.text.replace('\\n',''))\n",
    "\n",
    "def sum_func(soup, summary_list=[]):\n",
    "    for row in soup.find_all('div', {'id':True}):\n",
    "        for header in row.find_all('span', {'class':'summary'}):\n",
    "            summary_list.append(header.text.replace('\\n',''))\n",
    "    return summary_list"
   ]
  },
  {
   "cell_type": "code",
   "execution_count": 25,
   "metadata": {
    "collapsed": true
   },
   "outputs": [],
   "source": [
    "# Ratings and number of reviews\n",
    "rating_list = []\n",
    "for row in soup.find_all('div', {'id':True, 'data-jk':True}):\n",
    "    try:\n",
    "        # Get number of reviews\n",
    "        ratings = row.find('span', {'class':'slNoUnderline'}).text\n",
    "        \n",
    "        # Get actual star count out of 5\n",
    "        # width is a string with format 'width:##.#px'. Trying to pull out ##.# as a float\n",
    "        width = row.find('span', {'style':True})['style']\n",
    "        pixels = re.search('\\d{2}.\\d',width)\n",
    "        stars = round(float(pixels.group())/60. * 5, 2)\n",
    "        rating_list.append((stars, ratings))\n",
    "        \n",
    "    except:\n",
    "        rating_list.append((np.nan, 0))\n",
    "\n",
    "def rat_func(soup, rating_list=[], star_list=[], review_list=[]):\n",
    "    for row in soup.find_all('div', {'id':True, 'data-jk':True}):\n",
    "        try:\n",
    "            # Get number of reviews\n",
    "            ratings = row.find('span', {'class':'slNoUnderline'}).text\n",
    "\n",
    "            # Get actual star count out of 5\n",
    "            # width is a string with format 'width:##.#px'. Trying to pull out ##.# as a float\n",
    "            width = row.find('span', {'style':True})['style']\n",
    "            pixels = re.search('\\d{2}.\\d',width)\n",
    "            stars = round(float(pixels.group())/60. * 5, 2)\n",
    "            rating_list.append((stars, ratings))\n",
    "\n",
    "        except:\n",
    "            rating_list.append((np.nan, np.nan))\n",
    "            \n",
    "    star_list = [i[0] for i in rating_list]\n",
    "    review_list = [i[1] for i in rating_list]\n",
    "            \n",
    "    return star_list, review_list"
   ]
  },
  {
   "cell_type": "markdown",
   "metadata": {},
   "source": [
    "### All functions for scraping have been made.\n",
    "Now, I will create some new 'cleaning' functions to help make the output from the webscraping more human-readable.\n",
    "I will also create one function that will combine all previous functions and print out into a dataframe.\n",
    "\n",
    "---"
   ]
  },
  {
   "cell_type": "code",
   "execution_count": 26,
   "metadata": {
    "collapsed": true
   },
   "outputs": [],
   "source": [
    "# Got some information, but df is not clean at all. Let's work easiest to hardest. \n",
    "# Reviews is first\n",
    "\n",
    "def cleaner(row):\n",
    "    try:\n",
    "        # Replace commas with nothing\n",
    "        new_row = row.replace(',', '')\n",
    "\n",
    "        # Get of rid of word 'reviews'\n",
    "        new_row = float(new_row.split()[0])\n",
    "    except:\n",
    "        new_row = np.nan    \n",
    "    \n",
    "    return new_row"
   ]
  },
  {
   "cell_type": "code",
   "execution_count": 27,
   "metadata": {
    "collapsed": true
   },
   "outputs": [],
   "source": [
    "# Make a cleaner for salary. Taking average of range of salary for computation purposes\n",
    "# Will return all hourly rates as np.nan, since we are only looking at salaried positions.\n",
    "def sal_cleaner(row):\n",
    "    try:\n",
    "        # Replace commas with nothing\n",
    "        new_row = row.replace(',', '')\n",
    "\n",
    "        # Get list of salary split by '-'\n",
    "        split_list = new_row.split('a year')[0]\n",
    "        dol_replace = split_list.replace('$', '')\n",
    "        dol_split = dol_replace.split('-')\n",
    "        \n",
    "        if len(dol_split) > 1:\n",
    "            new_row = 0.5 * (float(dol_split[0]) + float(dol_split[1]))\n",
    "        else:\n",
    "            new_row = float(dol_split[0])\n",
    "    except:\n",
    "        new_row = np.nan    \n",
    "    \n",
    "    return new_row"
   ]
  },
  {
   "cell_type": "code",
   "execution_count": 28,
   "metadata": {
    "collapsed": true
   },
   "outputs": [],
   "source": [
    "# We are going to eventually run this above code multiple times. So better to put in a function\n",
    "def indeed_maker(soup):\n",
    "    df = pd.DataFrame(zip(job_func(soup), \n",
    "                      loc_func(soup), \n",
    "                      sal_func(soup), \n",
    "                      comp_func(soup), \n",
    "                      time_func(soup), \n",
    "                      rat_func(soup)[0], \n",
    "                      rat_func(soup)[1],\n",
    "                      sum_func(soup)), \n",
    "                  columns=['Title', \n",
    "                           'Location', \n",
    "                           'Salary',\n",
    "                           'Company', \n",
    "                           'Post_date', \n",
    "                           'Rating', \n",
    "                           'Reviews',\n",
    "                           'Summary'])\n",
    "    \n",
    "    df.Reviews = df.Reviews.map(cleaner)\n",
    "    df.Salary = df.Salary.map(sal_cleaner)\n",
    "    \n",
    "    return df"
   ]
  },
  {
   "cell_type": "markdown",
   "metadata": {},
   "source": [
    "### Time to run. Tried to run a while loop, but Indeed cuts off at page 100.\n",
    "Even if there are more than 100 page worths, Indeed cuts off.\n",
    "As a result, will have to search through several cities instead of searching without locations."
   ]
  },
  {
   "cell_type": "code",
   "execution_count": 29,
   "metadata": {
    "collapsed": true
   },
   "outputs": [],
   "source": [
    "list_of_cities = ['Atlanta', 'Los+Angeles', 'Seattle', 'Portland', 'San+Francisco', \n",
    "                  'Washington%2C+DC', 'Boston', 'Austin', 'Dallas', 'Houston',\n",
    "                  'Orlando', 'Philadelphia', 'Pittsburgh', 'Cincinnati', 'Miami',\n",
    "                  'New+York+City', 'New+Jersey', 'Kansas+City', 'San Diego',\n",
    "                 'San+Jose', 'Salt+Lake+City', 'Raleigh', 'Minneapolis', 'Oklahoma+City',\n",
    "                 'St.+Louis', 'Detroit', 'Colombus', 'Cleveland', 'Indianapolis', 'Baltimore']"
   ]
  },
  {
   "cell_type": "code",
   "execution_count": 30,
   "metadata": {
    "collapsed": true
   },
   "outputs": [],
   "source": [
    "# Looking for two titles\n",
    "for role in ['research+scientist', 'business+analyst']:\n",
    "    # Looking at a list of cities\n",
    "    for city in list_of_cities:\n",
    "        # Looking through all pages Indeed will allow you to look through\n",
    "        for page in np.linspace(0, 950, 20):\n",
    "            # Page indicator\n",
    "            start = str(int(page))\n",
    "\n",
    "            # Web initializer\n",
    "            url = 'https://www.indeed.com/jobs?q=' + role + '&l=' + city + '&limit=50&start=' + start\n",
    "            html = urllib.urlopen(url).read()\n",
    "            soup = BeautifulSoup(html, 'lxml')\n",
    "\n",
    "            # Function that scrapes all relevant data and creates a dataframe        \n",
    "            ind_df = indeed_maker(soup)\n",
    "            \n",
    "            # More pythonic to break for loop if no next link is available. Could not figure out a way."
   ]
  },
  {
   "cell_type": "code",
   "execution_count": 31,
   "metadata": {},
   "outputs": [
    {
     "data": {
      "text/html": [
       "<div>\n",
       "<table border=\"1\" class=\"dataframe\">\n",
       "  <thead>\n",
       "    <tr style=\"text-align: right;\">\n",
       "      <th></th>\n",
       "      <th>Salary</th>\n",
       "      <th>Post_date</th>\n",
       "      <th>Rating</th>\n",
       "      <th>Reviews</th>\n",
       "    </tr>\n",
       "  </thead>\n",
       "  <tbody>\n",
       "    <tr>\n",
       "      <th>count</th>\n",
       "      <td>1036.000000</td>\n",
       "      <td>13650.000000</td>\n",
       "      <td>19281.000000</td>\n",
       "      <td>19281.000000</td>\n",
       "    </tr>\n",
       "    <tr>\n",
       "      <th>mean</th>\n",
       "      <td>82382.188224</td>\n",
       "      <td>14.104466</td>\n",
       "      <td>3.961309</td>\n",
       "      <td>1372.266169</td>\n",
       "    </tr>\n",
       "    <tr>\n",
       "      <th>std</th>\n",
       "      <td>33269.848269</td>\n",
       "      <td>9.271211</td>\n",
       "      <td>0.507378</td>\n",
       "      <td>3488.319569</td>\n",
       "    </tr>\n",
       "    <tr>\n",
       "      <th>min</th>\n",
       "      <td>12530.000000</td>\n",
       "      <td>0.083333</td>\n",
       "      <td>1.250000</td>\n",
       "      <td>2.000000</td>\n",
       "    </tr>\n",
       "    <tr>\n",
       "      <th>25%</th>\n",
       "      <td>60000.000000</td>\n",
       "      <td>6.000000</td>\n",
       "      <td>3.600000</td>\n",
       "      <td>38.000000</td>\n",
       "    </tr>\n",
       "    <tr>\n",
       "      <th>50%</th>\n",
       "      <td>75500.000000</td>\n",
       "      <td>13.000000</td>\n",
       "      <td>4.250000</td>\n",
       "      <td>240.000000</td>\n",
       "    </tr>\n",
       "    <tr>\n",
       "      <th>75%</th>\n",
       "      <td>100000.000000</td>\n",
       "      <td>21.000000</td>\n",
       "      <td>4.350000</td>\n",
       "      <td>736.000000</td>\n",
       "    </tr>\n",
       "    <tr>\n",
       "      <th>max</th>\n",
       "      <td>250000.000000</td>\n",
       "      <td>30.000000</td>\n",
       "      <td>5.000000</td>\n",
       "      <td>26371.000000</td>\n",
       "    </tr>\n",
       "  </tbody>\n",
       "</table>\n",
       "</div>"
      ],
      "text/plain": [
       "              Salary     Post_date        Rating       Reviews\n",
       "count    1036.000000  13650.000000  19281.000000  19281.000000\n",
       "mean    82382.188224     14.104466      3.961309   1372.266169\n",
       "std     33269.848269      9.271211      0.507378   3488.319569\n",
       "min     12530.000000      0.083333      1.250000      2.000000\n",
       "25%     60000.000000      6.000000      3.600000     38.000000\n",
       "50%     75500.000000     13.000000      4.250000    240.000000\n",
       "75%    100000.000000     21.000000      4.350000    736.000000\n",
       "max    250000.000000     30.000000      5.000000  26371.000000"
      ]
     },
     "execution_count": 31,
     "metadata": {},
     "output_type": "execute_result"
    }
   ],
   "source": [
    "# Getting rid of row duplicates (sometimes reviews and rating will be different)\n",
    "ind_df.drop_duplicates(subset=['Summary'], inplace=True)\n",
    "ind_df.describe()"
   ]
  },
  {
   "cell_type": "code",
   "execution_count": 32,
   "metadata": {
    "collapsed": true
   },
   "outputs": [],
   "source": [
    "# Saving dataframe as a csv so that I don't have to run code again.\n",
    "ind_df.to_csv('Indeed_0622', encoding='utf-8')"
   ]
  },
  {
   "cell_type": "markdown",
   "metadata": {
    "collapsed": true
   },
   "source": [
    "# Organize all csv files from several days into one and drop duplicates\n",
    "\n",
    "Scraped data from several days in hopes of capturing 1000 salaries.\n",
    "Because csv files were saved, will have to pull from multiple files, concat dataframes, drop duplicates, and finally reset index to get a fresh dataframe to work with."
   ]
  },
  {
   "cell_type": "code",
   "execution_count": 3,
   "metadata": {},
   "outputs": [],
   "source": [
    "def read_and_clean(filepath):\n",
    "    df = pd.read_csv(filepath)\n",
    "    df.drop('Unnamed: 0', axis=1, inplace=True)\n",
    "    return df\n",
    "\n",
    "empty_df_list = []\n",
    "paths = ['Indeed_0612', 'Indeed_0615', 'Indeed_0617', 'Indeed_0618', 'Indeed_analyst_0615', 'Indeed_0621']\n",
    "for filepath in paths:\n",
    "    empty_df_list.append(read_and_clean(filepath))\n",
    "\n",
    "df = pd.concat(empty_df_list)"
   ]
  },
  {
   "cell_type": "code",
   "execution_count": 4,
   "metadata": {
    "collapsed": true
   },
   "outputs": [],
   "source": [
    "# Cleaning step. Drop duplicates & reset index. \n",
    "df.drop_duplicates(['Summary'], inplace=True)"
   ]
  },
  {
   "cell_type": "markdown",
   "metadata": {},
   "source": [
    "### Now to perform some EDA.\n",
    "Will get a general feel for the dataframe and perform any data cleaning that is deemed necessary."
   ]
  },
  {
   "cell_type": "code",
   "execution_count": 6,
   "metadata": {},
   "outputs": [
    {
     "data": {
      "text/html": [
       "<div>\n",
       "<table border=\"1\" class=\"dataframe\">\n",
       "  <thead>\n",
       "    <tr style=\"text-align: right;\">\n",
       "      <th></th>\n",
       "      <th>Salary</th>\n",
       "      <th>Post_date</th>\n",
       "      <th>Rating</th>\n",
       "      <th>Reviews</th>\n",
       "    </tr>\n",
       "  </thead>\n",
       "  <tbody>\n",
       "    <tr>\n",
       "      <th>count</th>\n",
       "      <td>2724.000000</td>\n",
       "      <td>33108.000000</td>\n",
       "      <td>45651.000000</td>\n",
       "      <td>45651.000000</td>\n",
       "    </tr>\n",
       "    <tr>\n",
       "      <th>mean</th>\n",
       "      <td>84655.714391</td>\n",
       "      <td>14.039910</td>\n",
       "      <td>3.930274</td>\n",
       "      <td>1557.227421</td>\n",
       "    </tr>\n",
       "    <tr>\n",
       "      <th>std</th>\n",
       "      <td>36428.005766</td>\n",
       "      <td>9.716850</td>\n",
       "      <td>0.493395</td>\n",
       "      <td>4736.826192</td>\n",
       "    </tr>\n",
       "    <tr>\n",
       "      <th>min</th>\n",
       "      <td>10000.000000</td>\n",
       "      <td>0.083333</td>\n",
       "      <td>1.250000</td>\n",
       "      <td>2.000000</td>\n",
       "    </tr>\n",
       "    <tr>\n",
       "      <th>25%</th>\n",
       "      <td>60000.000000</td>\n",
       "      <td>6.000000</td>\n",
       "      <td>3.600000</td>\n",
       "      <td>29.000000</td>\n",
       "    </tr>\n",
       "    <tr>\n",
       "      <th>50%</th>\n",
       "      <td>77025.000000</td>\n",
       "      <td>13.000000</td>\n",
       "      <td>4.250000</td>\n",
       "      <td>166.000000</td>\n",
       "    </tr>\n",
       "    <tr>\n",
       "      <th>75%</th>\n",
       "      <td>100000.000000</td>\n",
       "      <td>22.000000</td>\n",
       "      <td>4.350000</td>\n",
       "      <td>768.000000</td>\n",
       "    </tr>\n",
       "    <tr>\n",
       "      <th>max</th>\n",
       "      <td>275000.000000</td>\n",
       "      <td>30.000000</td>\n",
       "      <td>5.000000</td>\n",
       "      <td>98543.000000</td>\n",
       "    </tr>\n",
       "  </tbody>\n",
       "</table>\n",
       "</div>"
      ],
      "text/plain": [
       "              Salary     Post_date        Rating       Reviews\n",
       "count    2724.000000  33108.000000  45651.000000  45651.000000\n",
       "mean    84655.714391     14.039910      3.930274   1557.227421\n",
       "std     36428.005766      9.716850      0.493395   4736.826192\n",
       "min     10000.000000      0.083333      1.250000      2.000000\n",
       "25%     60000.000000      6.000000      3.600000     29.000000\n",
       "50%     77025.000000     13.000000      4.250000    166.000000\n",
       "75%    100000.000000     22.000000      4.350000    768.000000\n",
       "max    275000.000000     30.000000      5.000000  98543.000000"
      ]
     },
     "execution_count": 6,
     "metadata": {},
     "output_type": "execute_result"
    }
   ],
   "source": [
    "# In the end, I get 1000+ salaries. These may not all be traditional \"data scientist/analyst\" positions. \n",
    "# But it is a good start.\n",
    "df.describe()"
   ]
  },
  {
   "cell_type": "code",
   "execution_count": 97,
   "metadata": {
    "collapsed": true
   },
   "outputs": [],
   "source": [
    "# We want only the observations with salary content. Other observations will be dropped. No imputation is performed.\n",
    "data = df[df.Salary.notnull()].copy()\n",
    "data.reset_index(drop=True, inplace=True)"
   ]
  },
  {
   "cell_type": "code",
   "execution_count": 98,
   "metadata": {},
   "outputs": [
    {
     "data": {
      "image/png": "[encoded data removed]",
      "text/plain": [
       "<matplotlib.figure.Figure at 0x15917ef0>"
      ]
     },
     "metadata": {},
     "output_type": "display_data"
    }
   ],
   "source": [
    "# Looking at each numerical feature visually to find if there are any issues.\n",
    "data.Reviews.plot(kind='hist')\n",
    "plt.title('Data Scientist/Analyst Number of Reviews')\n",
    "plt.xlabel('Number of Reviews')\n",
    "plt.show()"
   ]
  },
  {
   "cell_type": "code",
   "execution_count": 99,
   "metadata": {
    "collapsed": true
   },
   "outputs": [],
   "source": [
    "# Seems like code was implemented or written incorrectly. Will have to drop whole columns unfortunately.\n",
    "data.drop('Reviews', axis=1, inplace=True)"
   ]
  },
  {
   "cell_type": "code",
   "execution_count": 65,
   "metadata": {},
   "outputs": [
    {
     "data": {
      "image/png": "[encoded data removed]",
      "text/plain": [
       "<matplotlib.figure.Figure at 0x113f1fd0>"
      ]
     },
     "metadata": {},
     "output_type": "display_data"
    }
   ],
   "source": [
    "# Graph salaries on a histogram and boxplot\n",
    "sns.set(font_scale=1.5)\n",
    "sns.distplot(data.Salary, kde=False)\n",
    "plt.xlabel('Salaries ($)')\n",
    "plt.ylabel('Number of Salaries')\n",
    "plt.title('Data Science Salaries')\n",
    "plt.show()"
   ]
  },
  {
   "cell_type": "code",
   "execution_count": 78,
   "metadata": {},
   "outputs": [
    {
     "data": {
      "image/png": "[encoded data removed]",
      "text/plain": [
       "<matplotlib.figure.Figure at 0x13c47c50>"
      ]
     },
     "metadata": {},
     "output_type": "display_data"
    }
   ],
   "source": [
    "x = data.Salary\n",
    "f, (ax_box, ax_hist) = plt.subplots(2, sharex=True, \n",
    "                                    gridspec_kw={\"height_ratios\": (.15, .85)})\n",
    "\n",
    "sns.boxplot(x, ax=ax_box)\n",
    "sns.distplot(x, ax=ax_hist, kde=False)\n",
    "\n",
    "ax_box.set(yticks=[])\n",
    "sns.despine(ax=ax_hist)\n",
    "sns.despine(ax=ax_box, left=True)"
   ]
  },
  {
   "cell_type": "code",
   "execution_count": 11,
   "metadata": {},
   "outputs": [
    {
     "data": {
      "image/png": "[encoded data removed]",
      "text/plain": [
       "<matplotlib.figure.Figure at 0x1076aba8>"
      ]
     },
     "metadata": {},
     "output_type": "display_data"
    }
   ],
   "source": [
    "data.Rating.plot(kind='hist')\n",
    "plt.title('Data Scientist/Analyst Company Star Ratings')\n",
    "plt.xlabel('Star Ratings (/5)')\n",
    "plt.show()"
   ]
  },
  {
   "cell_type": "code",
   "execution_count": 12,
   "metadata": {},
   "outputs": [
    {
     "data": {
      "text/html": [
       "<div>\n",
       "<table border=\"1\" class=\"dataframe\">\n",
       "  <thead>\n",
       "    <tr style=\"text-align: right;\">\n",
       "      <th></th>\n",
       "      <th>Salary</th>\n",
       "      <th>Post_date</th>\n",
       "      <th>Rating</th>\n",
       "    </tr>\n",
       "  </thead>\n",
       "  <tbody>\n",
       "    <tr>\n",
       "      <th>count</th>\n",
       "      <td>2724.000000</td>\n",
       "      <td>1783.000000</td>\n",
       "      <td>2068.000000</td>\n",
       "    </tr>\n",
       "    <tr>\n",
       "      <th>mean</th>\n",
       "      <td>84655.714391</td>\n",
       "      <td>13.697163</td>\n",
       "      <td>3.908535</td>\n",
       "    </tr>\n",
       "    <tr>\n",
       "      <th>std</th>\n",
       "      <td>36428.005766</td>\n",
       "      <td>9.591465</td>\n",
       "      <td>0.496936</td>\n",
       "    </tr>\n",
       "    <tr>\n",
       "      <th>min</th>\n",
       "      <td>10000.000000</td>\n",
       "      <td>0.083333</td>\n",
       "      <td>2.250000</td>\n",
       "    </tr>\n",
       "    <tr>\n",
       "      <th>25%</th>\n",
       "      <td>60000.000000</td>\n",
       "      <td>6.000000</td>\n",
       "      <td>3.600000</td>\n",
       "    </tr>\n",
       "    <tr>\n",
       "      <th>50%</th>\n",
       "      <td>77025.000000</td>\n",
       "      <td>12.000000</td>\n",
       "      <td>3.700000</td>\n",
       "    </tr>\n",
       "    <tr>\n",
       "      <th>75%</th>\n",
       "      <td>100000.000000</td>\n",
       "      <td>21.000000</td>\n",
       "      <td>4.350000</td>\n",
       "    </tr>\n",
       "    <tr>\n",
       "      <th>max</th>\n",
       "      <td>275000.000000</td>\n",
       "      <td>30.000000</td>\n",
       "      <td>5.000000</td>\n",
       "    </tr>\n",
       "  </tbody>\n",
       "</table>\n",
       "</div>"
      ],
      "text/plain": [
       "              Salary    Post_date       Rating\n",
       "count    2724.000000  1783.000000  2068.000000\n",
       "mean    84655.714391    13.697163     3.908535\n",
       "std     36428.005766     9.591465     0.496936\n",
       "min     10000.000000     0.083333     2.250000\n",
       "25%     60000.000000     6.000000     3.600000\n",
       "50%     77025.000000    12.000000     3.700000\n",
       "75%    100000.000000    21.000000     4.350000\n",
       "max    275000.000000    30.000000     5.000000"
      ]
     },
     "execution_count": 12,
     "metadata": {},
     "output_type": "execute_result"
    }
   ],
   "source": [
    "data.describe()"
   ]
  },
  {
   "cell_type": "code",
   "execution_count": 14,
   "metadata": {},
   "outputs": [
    {
     "data": {
      "image/png": "[encoded data removed]",
      "text/plain": [
       "<matplotlib.figure.Figure at 0xd0edfd0>"
      ]
     },
     "metadata": {},
     "output_type": "display_data"
    }
   ],
   "source": [
    "# Set init variables\n",
    "corr = data[['Salary', 'Post_date', 'Rating']].corr()\n",
    "\n",
    "# Set the default matplotlib figure size to 7x7:\n",
    "fix, ax = plt.subplots(figsize=(7,7))\n",
    "\n",
    "# Generate a mask for the upper triangle (taken from seaborn example gallery)\n",
    "mask = np.zeros_like(corr, dtype=np.bool)\n",
    "mask[np.triu_indices_from(mask)] = True\n",
    "\n",
    "# Plot the heatmap with seaborn.\n",
    "# Assign the matplotlib axis the function returns. This will let us resize the labels.\n",
    "ax = sns.heatmap(corr, mask=mask, annot=True, ax=ax)\n",
    "\n",
    "# Resize the labels.\n",
    "ax.set_xticklabels(ax.xaxis.get_ticklabels(), fontsize=14, rotation='vertical')\n",
    "ax.set_yticklabels(ax.yaxis.get_ticklabels(), fontsize=14)\n",
    "\n",
    "# If you put plt.show() at the bottom, it prevents those useless printouts from matplotlib.\n",
    "plt.show()"
   ]
  },
  {
   "cell_type": "markdown",
   "metadata": {},
   "source": [
    "---\n",
    "## Should have labelled cities differently\n",
    "\n",
    "Will have to relabel cities so that Location data actually represents some useable data."
   ]
  },
  {
   "cell_type": "code",
   "execution_count": 100,
   "metadata": {
    "collapsed": true
   },
   "outputs": [],
   "source": [
    "data.Location.replace(['.+GA.*', '.+NY.*', 'Los Angeles, CA.*', '.+WA.*', '.+OR.*', 'San Francisco.*',\n",
    "                       '.+DC.*', '.+MA.*', 'Austin, TX.*', 'Dallas, TX.*', 'Houston, TX.*', 'Orlando, FL.*',\n",
    "                       'Philadelphia, PA.*', 'Pittsburgh, PA.*', 'Cincinatti, OH.*', 'Miami.*',\n",
    "                       'Kansas City, MO.*', '.+San Diego.*', 'San Jose.*', '.+UT.*', '.+NC.*', '.+MN.*',\n",
    "                       '.+OK.*', 'St. Louis, MO.*', '.+MI.*', 'Col.mbus, OH.*', 'Cleveland, OH.*', \n",
    "                       '.+IN.*', '.+MD.*', '.+NJ.*', '\\s\\d{5}', '\\s\\(.*\\)', '.+VA.*', '.+SC.*', '.+KS.*', '.+KY.*',\n",
    "                      '.+IL.*'],\n",
    "                      ['Atlanta, GA', 'New York, NY', 'Los Angeles, CA', 'Seattle, WA', 'Portland, OR', 'San Francisco, CA',\n",
    "                       'Washington DC', 'Boston, MA', 'Austin, TX', 'Dallas, TX', 'Houston, TX', 'Orlando, FL',\n",
    "                       'Philadelphia, PA', 'Pittsburgh, PA', 'Cincinatti, OH', 'Miami, FL', 'Kansas City, MO',\n",
    "                       'San Diego, CA', 'San Jose, CA', 'Salt Lake City, UT', 'Raleigh, NC', 'Minneapolis, MN',\n",
    "                       'Oklahoma City, OK', 'St. Louis, MO', 'Detroit, MI', 'Colombus, OH', 'Cleveland, OH', \n",
    "                      'Indianapolis, IN', 'Baltimore, MD', 'Newark, NJ', '', '', 'Virginia', 'South Carolina', \n",
    "                       'Kansas', 'Kentucky', 'Chicago, IL'], regex=True, inplace=True)"
   ]
  },
  {
   "cell_type": "markdown",
   "metadata": {},
   "source": [
    "---\n",
    "### QUESTION 1: Factors that impact salary\n",
    "\n",
    "To predict salary you will be building either a classification or regression model, using features like the location, title, and summary of the job. If framing this as a regression problem, you will be estimating the listed salary amounts. You may instead choose to frame this as a classification problem, in which case you will create labels from these salaries (high vs. low salary, for example) according to thresholds (such as median salary).\n",
    "\n",
    "You have learned a variety of new skills and models that may be useful for this problem:\n",
    "- NLP\n",
    "- Unsupervised learning and dimensionality reduction techniques (PCA, clustering)\n",
    "- Ensemble methods and decision tree models\n",
    "- SVM models\n",
    "\n",
    "Whatever you decide to use, the most important thing is to justify your choices and interpret your results. *Communication of your process is key.* Note that most listings **DO NOT** come with salary information. You'll need to able to extrapolate or predict the expected salaries for these listings."
   ]
  },
  {
   "cell_type": "code",
   "execution_count": 101,
   "metadata": {
    "collapsed": true
   },
   "outputs": [],
   "source": [
    "# Import all the libraries\n",
    "from nltk.stem import SnowballStemmer\n",
    "from nltk.corpus import stopwords\n",
    "from sklearn.feature_extraction.text import CountVectorizer, HashingVectorizer, TfidfVectorizer, TfidfTransformer\n",
    "\n",
    "from sklearn.metrics import accuracy_score, completeness_score, silhouette_score, confusion_matrix\n",
    "from sklearn.preprocessing import StandardScaler\n",
    "from sklearn.model_selection import train_test_split, cross_val_score\n",
    "\n",
    "from sklearn.svm import SVC\n",
    "from sklearn.linear_model import LogisticRegression\n",
    "from sklearn.ensemble import RandomForestClassifier\n",
    "from sklearn.decomposition import PCA\n",
    "from sklearn.neighbors import KNeighborsClassifier\n",
    "from sklearn.naive_bayes import BernoulliNB, MultinomialNB"
   ]
  },
  {
   "cell_type": "code",
   "execution_count": 102,
   "metadata": {
    "collapsed": true
   },
   "outputs": [],
   "source": [
    "# Setting target variable\n",
    "# Choosing this salary because Glassdoor states this amount as around sthe pay for data scientists in Atlanta\n",
    "data['High_salary'] = data.Salary.map(lambda x: 0 if x < 90000.0 else 1)"
   ]
  },
  {
   "cell_type": "code",
   "execution_count": 103,
   "metadata": {},
   "outputs": [
    {
     "name": "stdout",
     "output_type": "stream",
     "text": [
      "0.635095447871\n"
     ]
    }
   ],
   "source": [
    "# Evaluating baseline\n",
    "baseline = max(data.High_salary.mean(), 1-data.High_salary.mean())\n",
    "print baseline"
   ]
  },
  {
   "cell_type": "code",
   "execution_count": 104,
   "metadata": {
    "collapsed": true
   },
   "outputs": [],
   "source": [
    "# Run a stemmer on Title\n",
    "snow = SnowballStemmer('english')\n",
    "\n",
    "placeholder = pd.Series('Title_token')\n",
    "placeholder.Title_token = data.Title.apply(lambda x: x.decode('utf-8').split(\" \"))\n",
    "\n",
    "data['Title_stem'] = placeholder.Title_token.apply(lambda x: \" \".join([snow.stem(y) for y in x]))"
   ]
  },
  {
   "cell_type": "code",
   "execution_count": 105,
   "metadata": {
    "collapsed": true
   },
   "outputs": [],
   "source": [
    "# First we will split data into a train/test split.\n",
    "X = data.Title_stem\n",
    "y = data.High_salary\n",
    "X_train, X_test, y_train, y_test = train_test_split(X, y, train_size = .8, random_state=90)"
   ]
  },
  {
   "cell_type": "code",
   "execution_count": 106,
   "metadata": {
    "collapsed": true
   },
   "outputs": [],
   "source": [
    "# Do a count vectorizer next\n",
    "cvec = CountVectorizer(ngram_range=(1,3))\n",
    "X_train_cv = cvec.fit_transform(X_train)"
   ]
  },
  {
   "cell_type": "code",
   "execution_count": 107,
   "metadata": {},
   "outputs": [
    {
     "name": "stdout",
     "output_type": "stream",
     "text": [
      "0.635613202573\n",
      "0.633027522936\n"
     ]
    }
   ],
   "source": [
    "# Run an SVM model to compare\n",
    "sv = SVC()\n",
    "sv.fit(X_train_cv, y_train)\n",
    "print np.mean(cross_val_score(sv, X_train_cv, y_train, cv=5))\n",
    "print sv.score(cvec.transform(X_test), y_test)"
   ]
  },
  {
   "cell_type": "code",
   "execution_count": 129,
   "metadata": {
    "collapsed": true
   },
   "outputs": [],
   "source": [
    "# Going to try several vectorizers and models. Better to write a function that will do this in one step.\n",
    "def tokenize_test(text, vect, model, target='High_salary', \n",
    "                  X_train=X_train, X_test=X_test, y_train=y_train, y_test=y_test):\n",
    "    '''Arguments are text, vect, model, target (in strings)\n",
    "    X_train, X_test, y_train, y_test.\n",
    "    Used to find the accuracy of the High Salary.'''\n",
    "    X = data[text]\n",
    "    y= data[target]\n",
    "    X_train, X_test, y_train, y_test = train_test_split(X, y, train_size = .8, random_state=90)\n",
    "    X_train_dtm = vect.fit_transform(X_train)\n",
    "    \n",
    "    X_test_dtm = vect.transform(X_test)\n",
    "    model.fit(X_train_dtm, y_train)\n",
    "    y_pred_class = model.predict(X_test_dtm)\n",
    "    return accuracy_score(y_test, y_pred_class)"
   ]
  },
  {
   "cell_type": "code",
   "execution_count": 130,
   "metadata": {},
   "outputs": [],
   "source": [
    "# Making a function to make a dataframe for the accuracy results of tokenize_test\n",
    "def accuracy_df_maker(models, vectors, texts, target):\n",
    "    '''models and vectors are dictionarys with key as the label and value as the object.\n",
    "    texts is a list of features to test on. Returns a sorted dataframe with accuracy scores\n",
    "    of every model, vectorizer, and feature combintion'''\n",
    "    Accuracy_scores = []\n",
    "    for model_k, model_v in models.items():\n",
    "        for vect_k, vect_v in vectors.items():\n",
    "            for text in texts:\n",
    "                Accuracy_scores.append((model_k, vect_k, text, tokenize_test(text, vect_v, model_v, target)))\n",
    "    \n",
    "    df = pd.DataFrame(Accuracy_scores, columns=['Model', 'Vectorizer', 'Feature', 'Accuracy_score'])\n",
    "    return df.sort_values('Accuracy_score', ascending=False).reset_index(drop=True)\n",
    "\n",
    "hvec, tvec = HashingVectorizer(), TfidfVectorizer()\n",
    "\n",
    "models = {'SVC':sv, 'Log':LogisticRegression(), 'Bernoulli':BernoulliNB(), 'KNN':KNeighborsClassifier()}\n",
    "vectors = {'CVEC':cvec, 'HVEC':hvec, 'TVEC': tvec}\n",
    "texts = ['Title_stem', 'Location', 'Summary']"
   ]
  },
  {
   "cell_type": "code",
   "execution_count": 132,
   "metadata": {},
   "outputs": [
    {
     "data": {
      "text/html": [
       "<div>\n",
       "<table border=\"1\" class=\"dataframe\">\n",
       "  <thead>\n",
       "    <tr style=\"text-align: right;\">\n",
       "      <th></th>\n",
       "      <th>Model</th>\n",
       "      <th>Vectorizer</th>\n",
       "      <th>Feature</th>\n",
       "      <th>Accuracy_score</th>\n",
       "    </tr>\n",
       "  </thead>\n",
       "  <tbody>\n",
       "    <tr>\n",
       "      <th>0</th>\n",
       "      <td>Log</td>\n",
       "      <td>CVEC</td>\n",
       "      <td>Title_stem</td>\n",
       "      <td>0.845872</td>\n",
       "    </tr>\n",
       "    <tr>\n",
       "      <th>1</th>\n",
       "      <td>Bernoulli</td>\n",
       "      <td>TVEC</td>\n",
       "      <td>Title_stem</td>\n",
       "      <td>0.805505</td>\n",
       "    </tr>\n",
       "    <tr>\n",
       "      <th>2</th>\n",
       "      <td>Log</td>\n",
       "      <td>TVEC</td>\n",
       "      <td>Title_stem</td>\n",
       "      <td>0.794495</td>\n",
       "    </tr>\n",
       "    <tr>\n",
       "      <th>3</th>\n",
       "      <td>Bernoulli</td>\n",
       "      <td>CVEC</td>\n",
       "      <td>Title_stem</td>\n",
       "      <td>0.792661</td>\n",
       "    </tr>\n",
       "    <tr>\n",
       "      <th>4</th>\n",
       "      <td>Log</td>\n",
       "      <td>HVEC</td>\n",
       "      <td>Title_stem</td>\n",
       "      <td>0.787156</td>\n",
       "    </tr>\n",
       "  </tbody>\n",
       "</table>\n",
       "</div>"
      ],
      "text/plain": [
       "       Model Vectorizer     Feature  Accuracy_score\n",
       "0        Log       CVEC  Title_stem        0.845872\n",
       "1  Bernoulli       TVEC  Title_stem        0.805505\n",
       "2        Log       TVEC  Title_stem        0.794495\n",
       "3  Bernoulli       CVEC  Title_stem        0.792661\n",
       "4        Log       HVEC  Title_stem        0.787156"
      ]
     },
     "execution_count": 132,
     "metadata": {},
     "output_type": "execute_result"
    }
   ],
   "source": [
    "nlp = accuracy_df_maker(models, vectors, texts, 'High_salary')\n",
    "nlp.head()"
   ]
  },
  {
   "cell_type": "code",
   "execution_count": 133,
   "metadata": {},
   "outputs": [],
   "source": [
    "# Separate functions because random forst with hashing takes more than 3 minutes with worse results.\n",
    "# Same with Multinomial. Combining all into one dataframe, best_df\n",
    "\n",
    "nlp_add = accuracy_df_maker({'Random Forest':RandomForestClassifier(), 'Multinomial':MultinomialNB()}, \n",
    "                            {'CVEC':cvec, 'TVEC':tvec}, ['Title_stem', 'Location', 'Summary'], 'High_salary')\n",
    "best_df = pd.concat([nlp, nlp_add]).sort_values('Accuracy_score', ascending=False).reset_index(drop=True).copy()"
   ]
  },
  {
   "cell_type": "code",
   "execution_count": 134,
   "metadata": {},
   "outputs": [
    {
     "name": "stdout",
     "output_type": "stream",
     "text": [
      "Baseline:  0.635095447871\n"
     ]
    },
    {
     "data": {
      "text/html": [
       "<div>\n",
       "<table border=\"1\" class=\"dataframe\">\n",
       "  <thead>\n",
       "    <tr style=\"text-align: right;\">\n",
       "      <th></th>\n",
       "      <th>Model</th>\n",
       "      <th>Vectorizer</th>\n",
       "      <th>Feature</th>\n",
       "      <th>Accuracy_score</th>\n",
       "    </tr>\n",
       "  </thead>\n",
       "  <tbody>\n",
       "    <tr>\n",
       "      <th>0</th>\n",
       "      <td>Log</td>\n",
       "      <td>CVEC</td>\n",
       "      <td>Title_stem</td>\n",
       "      <td>0.845872</td>\n",
       "    </tr>\n",
       "    <tr>\n",
       "      <th>1</th>\n",
       "      <td>Multinomial</td>\n",
       "      <td>CVEC</td>\n",
       "      <td>Title_stem</td>\n",
       "      <td>0.834862</td>\n",
       "    </tr>\n",
       "    <tr>\n",
       "      <th>2</th>\n",
       "      <td>Random Forest</td>\n",
       "      <td>CVEC</td>\n",
       "      <td>Title_stem</td>\n",
       "      <td>0.814679</td>\n",
       "    </tr>\n",
       "    <tr>\n",
       "      <th>3</th>\n",
       "      <td>Bernoulli</td>\n",
       "      <td>TVEC</td>\n",
       "      <td>Title_stem</td>\n",
       "      <td>0.805505</td>\n",
       "    </tr>\n",
       "    <tr>\n",
       "      <th>4</th>\n",
       "      <td>Multinomial</td>\n",
       "      <td>TVEC</td>\n",
       "      <td>Title_stem</td>\n",
       "      <td>0.801835</td>\n",
       "    </tr>\n",
       "    <tr>\n",
       "      <th>5</th>\n",
       "      <td>Random Forest</td>\n",
       "      <td>TVEC</td>\n",
       "      <td>Title_stem</td>\n",
       "      <td>0.798165</td>\n",
       "    </tr>\n",
       "    <tr>\n",
       "      <th>6</th>\n",
       "      <td>Log</td>\n",
       "      <td>TVEC</td>\n",
       "      <td>Title_stem</td>\n",
       "      <td>0.794495</td>\n",
       "    </tr>\n",
       "    <tr>\n",
       "      <th>7</th>\n",
       "      <td>Bernoulli</td>\n",
       "      <td>CVEC</td>\n",
       "      <td>Title_stem</td>\n",
       "      <td>0.792661</td>\n",
       "    </tr>\n",
       "    <tr>\n",
       "      <th>8</th>\n",
       "      <td>Log</td>\n",
       "      <td>HVEC</td>\n",
       "      <td>Title_stem</td>\n",
       "      <td>0.787156</td>\n",
       "    </tr>\n",
       "  </tbody>\n",
       "</table>\n",
       "</div>"
      ],
      "text/plain": [
       "           Model Vectorizer     Feature  Accuracy_score\n",
       "0            Log       CVEC  Title_stem        0.845872\n",
       "1    Multinomial       CVEC  Title_stem        0.834862\n",
       "2  Random Forest       CVEC  Title_stem        0.814679\n",
       "3      Bernoulli       TVEC  Title_stem        0.805505\n",
       "4    Multinomial       TVEC  Title_stem        0.801835\n",
       "5  Random Forest       TVEC  Title_stem        0.798165\n",
       "6            Log       TVEC  Title_stem        0.794495\n",
       "7      Bernoulli       CVEC  Title_stem        0.792661\n",
       "8            Log       HVEC  Title_stem        0.787156"
      ]
     },
     "execution_count": 134,
     "metadata": {},
     "output_type": "execute_result"
    }
   ],
   "source": [
    "# Return the best_df with accuracy scores higher than 1 + multiplier/100\n",
    "multiplier = 20\n",
    "best_df = best_df[best_df.Accuracy_score > baseline*(1+(multiplier/100.))]\n",
    "print 'Baseline: ', baseline\n",
    "best_df"
   ]
  },
  {
   "cell_type": "markdown",
   "metadata": {},
   "source": [
    "### Feature Extraction\n",
    "If I don't count the number of words as original features, the dataframe could use some extra help on the number of\n",
    "features. I will attempt to extract features based on the job titles and summaries. I will make new boolean features\n",
    "based on whether a certain word appears in the text.\n",
    "\n",
    "---"
   ]
  },
  {
   "cell_type": "code",
   "execution_count": 113,
   "metadata": {
    "collapsed": true
   },
   "outputs": [],
   "source": [
    "# Feature Extractions based on Titles and summaries (if possible)\n",
    "def text_finder(text_list, title, summary):\n",
    "    for term in text_list:\n",
    "        if term.lower() in title.lower() or term.lower() in summary.lower():\n",
    "            return 1\n",
    "        else:\n",
    "            return 0"
   ]
  },
  {
   "cell_type": "code",
   "execution_count": 114,
   "metadata": {
    "collapsed": true
   },
   "outputs": [],
   "source": [
    "## Assuming that job summaries are too short to say:\n",
    "## Title - Entry Level Data Scientist\n",
    "## Summary - Work with Senior Data Scientist\n",
    "## My function may be too forgiving and will capture these overlaps\n",
    "\n",
    "data['Scientist'] = data.apply(lambda row: text_finder(['scientist'], row.Title, row.Summary), axis=1)\n",
    "data['Analyst'] = data.apply(lambda row: text_finder(['Analyst'], row.Title, row.Summary), axis=1)\n",
    "data['Senior'] = data.Title.copy().map(lambda x: 1 if 'senior' in x.lower() else 1 if 'sr.' in x.lower() else 0)\n",
    "data['Entry'] = data.apply(lambda row: text_finder(['entry','junior','jr.'], row.Title, row.Summary), axis=1)\n",
    "data['Manager'] = data.apply(lambda row: text_finder(['manager', 'mgr.', 'mgr'], row.Title, row.Summary), axis=1)"
   ]
  },
  {
   "cell_type": "code",
   "execution_count": 115,
   "metadata": {
    "collapsed": true
   },
   "outputs": [],
   "source": [
    "# Perform countvectorizer on Summary to get the most common words\n",
    "stop = stopwords.words('english')\n",
    "stop.extend(['data', 'scientist', 'scientists', 'analyst', 'analysis', 'ability', 'analyze', 'analyzing', \n",
    "             'analysts', 'analytics', 'using', 'tools', 'work', 'working', 'including', 'information', \n",
    "             'position', 'company', 'knowledge', 'provide', 'quality', 'related', 'reports', 'reporting',\n",
    "            'science', 'skills', 'services', 'strong'])\n",
    "\n",
    "cv = CountVectorizer(ngram_range=(1,2), stop_words=stop, max_features=50)\n",
    "\n",
    "count_df  = pd.DataFrame(cv.fit_transform(data.Summary).todense(),\n",
    "                   columns=cv.get_feature_names())"
   ]
  },
  {
   "cell_type": "code",
   "execution_count": 116,
   "metadata": {},
   "outputs": [
    {
     "data": {
      "text/plain": [
       "business      1213\n",
       "experience     535\n",
       "research       353\n",
       "years          262\n",
       "financial      245\n",
       "team           238\n",
       "management     228\n",
       "senior         227\n",
       "support        203\n",
       "systems        197\n",
       "dtype: int64"
      ]
     },
     "execution_count": 116,
     "metadata": {},
     "output_type": "execute_result"
    }
   ],
   "source": [
    "count_df.sum().sort_values(ascending=False).head(10)"
   ]
  },
  {
   "cell_type": "code",
   "execution_count": 117,
   "metadata": {
    "collapsed": true
   },
   "outputs": [],
   "source": [
    "# The top non-filler words are:\n",
    "data['Financial'] = data.apply(lambda row: text_finder(['financial'], row.Title, row.Summary), axis=1)\n",
    "data['Health'] = data.apply(lambda row: text_finder(['health'], row.Title, row.Summary), axis=1)\n",
    "data['Machine_learning'] = data.apply(lambda row: text_finder(['machine', 'machine learning'], row.Title, row.Summary), axis=1)\n",
    "data['SQL'] = data.apply(lambda row: text_finder(['sql'], row.Title, row.Summary), axis=1)\n",
    "data['Business'] = data.apply(lambda row: text_finder(['business'], row.Title, row.Summary), axis=1)\n",
    "data['Research'] = data.apply(lambda row: text_finder(['research'], row.Title, row.Summary), axis=1)\n",
    "data['Experienced'] = data.apply(lambda row: text_finder(['master\\'s', '5+', '5-10', '5-7', '7+', 'phd'], row.Title, row.Summary), axis=1)\n",
    "\n",
    "# One more for skills that a typical data scientist should know\n",
    "data['Skills'] = data.apply(lambda row: text_finder(['sql', 'model', 'spark', 'hadoop', 'big data', \n",
    "                                                    'unix', 'git', 'PCA', 'predict', 'python', ' r ', ' R '\n",
    "                                                    'statistics', 'stat', 'regression', 'classification',\n",
    "                                                    'flask', 'database', 'api'], row.Title, row.Summary), axis=1)"
   ]
  },
  {
   "cell_type": "code",
   "execution_count": 118,
   "metadata": {},
   "outputs": [],
   "source": [
    "# Perform PCA on all these binaries\n",
    "import patsy\n",
    "matrix_string = '''\n",
    "High_salary ~ \n",
    "Financial + Health + \n",
    "Machine_learning + SQL + \n",
    "Scientist + Analyst + Senior + \n",
    "Entry + Manager + Skills + \n",
    "Business + Research + Experienced -1\n",
    "'''\n",
    "y, X = patsy.dmatrices(matrix_string, data)\n",
    "\n",
    "ss = StandardScaler()\n",
    "X_ss = ss.fit_transform(X)\n",
    "\n",
    "binaries_pca = PCA(n_components=5)\n",
    "binaries_pca.fit(X_ss);"
   ]
  },
  {
   "cell_type": "code",
   "execution_count": 119,
   "metadata": {
    "collapsed": true
   },
   "outputs": [],
   "source": [
    "trans_binaries = binaries_pca.transform(X_ss)\n",
    "PCA_df = pd.DataFrame(trans_binaries, columns=['PC1', 'PC2', 'PC3', 'PC4', 'PC5'])"
   ]
  },
  {
   "cell_type": "code",
   "execution_count": 122,
   "metadata": {},
   "outputs": [
    {
     "name": "stdout",
     "output_type": "stream",
     "text": [
      "Baseline:  0.635095447871\n",
      "PCA logreg:  0.712165407447\n"
     ]
    }
   ],
   "source": [
    "lr = LogisticRegression()\n",
    "lr.fit(trans_binaries, y.ravel())\n",
    "print 'Baseline: ', baseline\n",
    "print 'PCA logreg: ', np.mean(cross_val_score(lr, PCA_df[['PC1', 'PC2', 'PC3', 'PC4']], y.ravel(), cv=5, scoring='accuracy'))"
   ]
  },
  {
   "cell_type": "code",
   "execution_count": 124,
   "metadata": {},
   "outputs": [
    {
     "data": {
      "text/plain": [
       "7.7069959576604452"
      ]
     },
     "execution_count": 124,
     "metadata": {},
     "output_type": "execute_result"
    }
   ],
   "source": [
    "# PCA does improve score, but not as well as other methods.\n",
    "(np.mean(cross_val_score(lr, PCA_df[['PC1', 'PC2', 'PC3', 'PC4']], y.ravel(), cv=5, scoring='accuracy')) - baseline)*100"
   ]
  },
  {
   "cell_type": "markdown",
   "metadata": {},
   "source": [
    "---\n",
    "### QUESTION 2: Factors that distinguish job category\n",
    "\n",
    "Using the job postings you scraped for part 1 (or potentially new job postings from a second round of scraping), identify features in the data related to job postings that can distinguish job titles from each other. There are a variety of interesting ways you can frame the target variable, for example:\n",
    "- **What components of a job posting distinguish data scientists from other data jobs?**\n",
    "- What features are important for distinguishing junior vs. senior positions?\n",
    "- Do the requirements for titles vary significantly with industry (e.g. healthcare vs. government)?\n",
    "\n",
    "You may end up making multiple classification models to tackle different questions. Be sure to clearly explain your hypotheses and framing, any feature engineering, and what your target variables are. The type of classification model you choose is up to you. Be sure to interpret your results and evaluate your models' performance."
   ]
  },
  {
   "cell_type": "code",
   "execution_count": 125,
   "metadata": {
    "collapsed": true
   },
   "outputs": [],
   "source": [
    "# Make target variable and a training-testing split\n",
    "y_scientist = data.Scientist\n",
    "X_scientist = data.Summary\n",
    "\n",
    "Xsci_train, Xsci_test, ysci_train, ysci_test = train_test_split(X_scientist, y_scientist, train_size = .75, random_state=10)"
   ]
  },
  {
   "cell_type": "code",
   "execution_count": 126,
   "metadata": {},
   "outputs": [
    {
     "name": "stdout",
     "output_type": "stream",
     "text": [
      "baseline:  0.811674008811 \n",
      "Titles/Summaries with scientist:  513\n"
     ]
    }
   ],
   "source": [
    "sci_baseline = max(np.mean(y_scientist), 1-np.mean(y_scientist))\n",
    "print 'baseline: ', sci_baseline, '\\nTitles/Summaries with scientist: ',y_scientist.sum()"
   ]
  },
  {
   "cell_type": "code",
   "execution_count": 138,
   "metadata": {},
   "outputs": [],
   "source": [
    "# When I have more time, will have to rewrite this section so that function written above can be used.\n",
    "# Difference is that I have different X and y variables.\n",
    "Accuracy_scores2 = []\n",
    "for k_model,v_model in {'SVC':sv, \n",
    "                        'Logreg': LogisticRegression(), \n",
    "                        'Bernoulli': BernoulliNB(), \n",
    "                        'KNN': KNeighborsClassifier()}.items():\n",
    "    for k_vect, v_vect in {'CVEC':cvec, 'HVEC':hvec, 'TVEC':tvec}.items():\n",
    "        Accuracy_scores2.append((k_model, k_vect, 'Summary', \n",
    "                                tokenize_test(text, v_vect, \n",
    "                                              v_model, 'Scientist', \n",
    "                                              Xsci_train, Xsci_test, \n",
    "                                              ysci_train, ysci_test)))"
   ]
  },
  {
   "cell_type": "code",
   "execution_count": 139,
   "metadata": {
    "collapsed": true
   },
   "outputs": [],
   "source": [
    "# Likewise in above, we are running random forest and multinomial on tvec and cvec.\n",
    "Accuracy_scores3 = []\n",
    "for k_model,v_model in {'RFC':RandomForestClassifier(), 'Multinomial':MultinomialNB()}.items():\n",
    "    for k_vect, v_vect in {'CVEC':cvec, 'TVEC':tvec}.items():\n",
    "        Accuracy_scores3.append((k_model, k_vect, 'Summary', \n",
    "                                tokenize_test(text, v_vect, \n",
    "                                              v_model, 'Scientist', \n",
    "                                              Xsci_train, Xsci_test, \n",
    "                                              ysci_train, ysci_test)))"
   ]
  },
  {
   "cell_type": "code",
   "execution_count": 140,
   "metadata": {
    "collapsed": true
   },
   "outputs": [],
   "source": [
    "sci_df = pd.DataFrame(Accuracy_scores2, columns=['Model', \n",
    "                                                 'Vectorizer', \n",
    "                                                 'Column', \n",
    "                                                 'Accuracy_score'])\n",
    "\n",
    "scientist = pd.concat([sci_df, pd.DataFrame(Accuracy_scores3, columns=['Model', \n",
    "                                                 'Vectorizer', \n",
    "                                                 'Column', \n",
    "                                                 'Accuracy_score'])])\n",
    "\n",
    "scientist.sort_values('Accuracy_score', ascending=False, inplace=True)\n",
    "scientist.reset_index(drop=True, inplace=True)"
   ]
  },
  {
   "cell_type": "code",
   "execution_count": 141,
   "metadata": {},
   "outputs": [
    {
     "name": "stdout",
     "output_type": "stream",
     "text": [
      "Scientist in title/summary baseline:  0.811674008811\n"
     ]
    },
    {
     "data": {
      "text/html": [
       "<div>\n",
       "<table border=\"1\" class=\"dataframe\">\n",
       "  <thead>\n",
       "    <tr style=\"text-align: right;\">\n",
       "      <th></th>\n",
       "      <th>Model</th>\n",
       "      <th>Vectorizer</th>\n",
       "      <th>Column</th>\n",
       "      <th>Accuracy_score</th>\n",
       "    </tr>\n",
       "  </thead>\n",
       "  <tbody>\n",
       "    <tr>\n",
       "      <th>0</th>\n",
       "      <td>Logreg</td>\n",
       "      <td>CVEC</td>\n",
       "      <td>Summary</td>\n",
       "      <td>0.919266</td>\n",
       "    </tr>\n",
       "    <tr>\n",
       "      <th>1</th>\n",
       "      <td>RFC</td>\n",
       "      <td>TVEC</td>\n",
       "      <td>Summary</td>\n",
       "      <td>0.915596</td>\n",
       "    </tr>\n",
       "  </tbody>\n",
       "</table>\n",
       "</div>"
      ],
      "text/plain": [
       "    Model Vectorizer   Column  Accuracy_score\n",
       "0  Logreg       CVEC  Summary        0.919266\n",
       "1     RFC       TVEC  Summary        0.915596"
      ]
     },
     "execution_count": 141,
     "metadata": {},
     "output_type": "execute_result"
    }
   ],
   "source": [
    "print 'Scientist in title/summary baseline: ',sci_baseline\n",
    "scientist.head(2)"
   ]
  },
  {
   "cell_type": "markdown",
   "metadata": {},
   "source": [
    "### Accuracy of 92%! Time for a sanity check.\n",
    "\n",
    "Got a very good accuracy score. However, the summary almost always includes the job title. As a result,\n",
    "one would expect to find that the count vectorized summary is very linearly related to the job title.\n",
    "Lastly, when instantiating the target variable, it was made based on whether 'scientist' was in title OR summary. I am chasing our own tail.\n",
    "\n",
    "---\n",
    "Thankfully, we have other methods to predict if **scientist** is in the job title. Using binary features we extracted\n",
    "above."
   ]
  },
  {
   "cell_type": "code",
   "execution_count": 142,
   "metadata": {},
   "outputs": [],
   "source": [
    "# Perform PCA on all these binaries\n",
    "import patsy\n",
    "matrix_string = '''\n",
    "Scientist ~ \n",
    "Financial + Health + \n",
    "Machine_learning + SQL +\n",
    "Analyst + Senior + \n",
    "Entry + Manager + Skills + \n",
    "Business + Research + Experienced -1\n",
    "'''\n",
    "patsy_y, patsy_X = patsy.dmatrices(matrix_string, data)\n",
    "\n",
    "Xpat_train, Xpat_test, ypat_train, ypat_test = train_test_split(patsy_X, patsy_y, train_size = .75, random_state=10)\n",
    "\n",
    "ss = StandardScaler()\n",
    "Xpat_ss = ss.fit_transform(Xpat_train)\n",
    "Xpat_ss_test = ss.transform(Xpat_test)\n",
    "\n",
    "sci_pca = PCA(n_components=5)\n",
    "sci_pca.fit(Xpat_ss)\n",
    "sci_pca.components_[0];"
   ]
  },
  {
   "cell_type": "code",
   "execution_count": 46,
   "metadata": {
    "collapsed": true
   },
   "outputs": [],
   "source": [
    "trans_sci = sci_pca.transform(Xpat_ss)\n",
    "trans_sci_test = sci_pca.transform(Xpat_ss_test)"
   ]
  },
  {
   "cell_type": "code",
   "execution_count": 47,
   "metadata": {
    "collapsed": true
   },
   "outputs": [],
   "source": [
    "PCA_sci_df = pd.DataFrame(trans_sci, columns=['PC1', 'PC2', 'PC3', 'PC4', 'PC5'])\n",
    "PCA_sci_df_test = pd.DataFrame(trans_sci_test, columns=['PC1', 'PC2', 'PC3', 'PC4', 'PC5'])"
   ]
  },
  {
   "cell_type": "code",
   "execution_count": 49,
   "metadata": {},
   "outputs": [
    {
     "name": "stdout",
     "output_type": "stream",
     "text": [
      "Baseline:  0.811674008811\n"
     ]
    },
    {
     "data": {
      "text/plain": [
       "array(0.8516886930983847)"
      ]
     },
     "execution_count": 49,
     "metadata": {},
     "output_type": "execute_result"
    }
   ],
   "source": [
    "# Finally run a logistic regression on the principal components.\n",
    "# Try to use the least amount of PC while still maintaining a relatively high score.\n",
    "lr = LogisticRegression()\n",
    "lr.fit(PCA_sci_df[['PC1', 'PC2', 'PC3']], ypat_train)\n",
    "\n",
    "print 'Baseline: ', sci_baseline\n",
    "lr.score(PCA_sci_df_test[['PC1', 'PC2', 'PC3']], ypat_test.ravel())"
   ]
  },
  {
   "cell_type": "markdown",
   "metadata": {},
   "source": [
    "### BONUS PROBLEM\n",
    "\n",
    "Your boss would rather tell a client incorrectly that they would get a lower salary job (and actually receive a higher salary job) than tell a client incorrectly that they would get a high salary job (and actually receive a low salary job). Adjust one of your models to ease his mind, and explain what it is doing and any tradeoffs. Plot the ROC curve.\n",
    "\n",
    "---\n",
    "**In other words, higher false negative rate than false positive rate.**"
   ]
  },
  {
   "cell_type": "code",
   "execution_count": 271,
   "metadata": {},
   "outputs": [
    {
     "data": {
      "image/png": "[encoded data removed]",
      "text/plain": [
       "<matplotlib.figure.Figure at 0x4ab4518>"
      ]
     },
     "metadata": {},
     "output_type": "display_data"
    }
   ],
   "source": [
    "# On test data\n",
    "X_train_cvc = cvec.fit_transform(X_train)\n",
    "X_test_cvc = cvec.transform(X_test)\n",
    "LR = LogisticRegression()\n",
    "LR.fit(X_train_cvc, y_train)\n",
    "y_pred = LR.predict(X_test_cvc)\n",
    "cnf_matrix = confusion_matrix(y_test, y_pred)\n",
    "\n",
    "# On all data\n",
    "X_cvc = cvec.transform(data.Title_stem)\n",
    "LR.fit(X_cvc, data.High_salary)\n",
    "y_predicted = LR.predict(X_cvc)\n",
    "cnf_matrix2 = confusion_matrix(y, y_predicted)\n",
    "\n",
    "# Conf matrix on all data\n",
    "fix, ax = plt.subplots(figsize=(5,4))\n",
    "sns.heatmap(cnf_matrix2, annot=True, fmt='g', ax=ax, cbar=False)\n",
    "plt.xlabel('Predicted')\n",
    "plt.ylabel('Actual')\n",
    "ax.set_xticklabels(['Low Salary', 'High Salary'], fontsize=14)\n",
    "ax.set_yticklabels(['High Salary', 'Low Salary'], fontsize=14, rotation='horizontal')\n",
    "plt.show()"
   ]
  },
  {
   "cell_type": "code",
   "execution_count": 146,
   "metadata": {},
   "outputs": [
    {
     "name": "stdout",
     "output_type": "stream",
     "text": [
      "('Accuracy Score', array(0.9269456681350955))\n",
      "      0    1\n",
      "0  1694   36\n",
      "1   163  831\n",
      "             precision    recall  f1-score   support\n",
      "\n",
      "        0.0       0.91      0.98      0.94      1730\n",
      "        1.0       0.96      0.84      0.89       994\n",
      "\n",
      "avg / total       0.93      0.93      0.93      2724\n",
      "\n"
     ]
    }
   ],
   "source": [
    "from sklearn.metrics import confusion_matrix, accuracy_score, classification_report\n",
    "\n",
    "def eval_model(model, x_test, y_true):\n",
    "    y_pred = model.predict(x_test)\n",
    "    conmat_1 = confusion_matrix(y_true, y_pred, labels=model.classes_)\n",
    "    conmat_1 = pd.DataFrame(conmat_1, columns=model.classes_, index=model.classes_)\n",
    "    print('Accuracy Score', accuracy_score(y_true, y_pred))\n",
    "    print(conmat_1)\n",
    "    print(classification_report(y_true,y_pred))\n",
    "    \n",
    "eval_model(LR, X_cvc, y)"
   ]
  },
  {
   "cell_type": "code",
   "execution_count": 160,
   "metadata": {},
   "outputs": [
    {
     "data": {
      "text/html": [
       "<div>\n",
       "<table border=\"1\" class=\"dataframe\">\n",
       "  <thead>\n",
       "    <tr style=\"text-align: right;\">\n",
       "      <th></th>\n",
       "      <th>Low_Salary_pp</th>\n",
       "      <th>High_Salary_pp</th>\n",
       "    </tr>\n",
       "  </thead>\n",
       "  <tbody>\n",
       "    <tr>\n",
       "      <th>0</th>\n",
       "      <td>0.067270</td>\n",
       "      <td>0.932730</td>\n",
       "    </tr>\n",
       "    <tr>\n",
       "      <th>1</th>\n",
       "      <td>0.038469</td>\n",
       "      <td>0.961531</td>\n",
       "    </tr>\n",
       "    <tr>\n",
       "      <th>2</th>\n",
       "      <td>0.067270</td>\n",
       "      <td>0.932730</td>\n",
       "    </tr>\n",
       "    <tr>\n",
       "      <th>3</th>\n",
       "      <td>0.042149</td>\n",
       "      <td>0.957851</td>\n",
       "    </tr>\n",
       "    <tr>\n",
       "      <th>4</th>\n",
       "      <td>0.006119</td>\n",
       "      <td>0.993881</td>\n",
       "    </tr>\n",
       "  </tbody>\n",
       "</table>\n",
       "</div>"
      ],
      "text/plain": [
       "   Low_Salary_pp  High_Salary_pp\n",
       "0       0.067270        0.932730\n",
       "1       0.038469        0.961531\n",
       "2       0.067270        0.932730\n",
       "3       0.042149        0.957851\n",
       "4       0.006119        0.993881"
      ]
     },
     "execution_count": 160,
     "metadata": {},
     "output_type": "execute_result"
    }
   ],
   "source": [
    "pp = pd.DataFrame(LR.predict_proba(X_cvc), columns=['Low_Salary_pp', 'High_Salary_pp'])\n",
    "pp.head()"
   ]
  },
  {
   "cell_type": "code",
   "execution_count": 284,
   "metadata": {},
   "outputs": [
    {
     "data": {
      "text/html": [
       "<div>\n",
       "<table border=\"1\" class=\"dataframe\">\n",
       "  <thead>\n",
       "    <tr style=\"text-align: right;\">\n",
       "      <th></th>\n",
       "      <th>Low_salary_pp</th>\n",
       "      <th>High_salary_pp</th>\n",
       "      <th>Actual_class</th>\n",
       "      <th>High_recall</th>\n",
       "      <th>High_precision</th>\n",
       "      <th>Suggested 0.8</th>\n",
       "    </tr>\n",
       "  </thead>\n",
       "  <tbody>\n",
       "    <tr>\n",
       "      <th>0</th>\n",
       "      <td>0.067270</td>\n",
       "      <td>0.932730</td>\n",
       "      <td>0</td>\n",
       "      <td>True</td>\n",
       "      <td>False</td>\n",
       "      <td>True</td>\n",
       "    </tr>\n",
       "    <tr>\n",
       "      <th>1</th>\n",
       "      <td>0.038469</td>\n",
       "      <td>0.961531</td>\n",
       "      <td>1</td>\n",
       "      <td>True</td>\n",
       "      <td>False</td>\n",
       "      <td>True</td>\n",
       "    </tr>\n",
       "    <tr>\n",
       "      <th>2</th>\n",
       "      <td>0.067270</td>\n",
       "      <td>0.932730</td>\n",
       "      <td>1</td>\n",
       "      <td>True</td>\n",
       "      <td>False</td>\n",
       "      <td>True</td>\n",
       "    </tr>\n",
       "    <tr>\n",
       "      <th>3</th>\n",
       "      <td>0.042149</td>\n",
       "      <td>0.957851</td>\n",
       "      <td>1</td>\n",
       "      <td>True</td>\n",
       "      <td>False</td>\n",
       "      <td>True</td>\n",
       "    </tr>\n",
       "    <tr>\n",
       "      <th>4</th>\n",
       "      <td>0.006119</td>\n",
       "      <td>0.993881</td>\n",
       "      <td>1</td>\n",
       "      <td>True</td>\n",
       "      <td>True</td>\n",
       "      <td>True</td>\n",
       "    </tr>\n",
       "  </tbody>\n",
       "</table>\n",
       "</div>"
      ],
      "text/plain": [
       "   Low_salary_pp  High_salary_pp  Actual_class High_recall High_precision  \\\n",
       "0       0.067270        0.932730             0        True          False   \n",
       "1       0.038469        0.961531             1        True          False   \n",
       "2       0.067270        0.932730             1        True          False   \n",
       "3       0.042149        0.957851             1        True          False   \n",
       "4       0.006119        0.993881             1        True           True   \n",
       "\n",
       "  Suggested 0.8  \n",
       "0          True  \n",
       "1          True  \n",
       "2          True  \n",
       "3          True  \n",
       "4          True  "
      ]
     },
     "execution_count": 284,
     "metadata": {},
     "output_type": "execute_result"
    }
   ],
   "source": [
    "high_recall = pp.ix[:,1] > 0.366\n",
    "high_precision = pp.ix[:,1] > 0.99\n",
    "just_right = pp.ix[:,1] > 0.6\n",
    "\n",
    "probs = pd.concat([pp, data.High_salary, high_recall, high_precision, just_right],axis=1).head()\n",
    "probs.columns = ['Low_salary_pp', 'High_salary_pp','Actual_class', 'High_recall', 'High_precision', 'Suggested 0.8']\n",
    "probs.head()"
   ]
  },
  {
   "cell_type": "code",
   "execution_count": 299,
   "metadata": {},
   "outputs": [
    {
     "data": {
      "image/png": "[encoded data removed]",
      "text/plain": [
       "<matplotlib.figure.Figure at 0x158193c8>"
      ]
     },
     "metadata": {},
     "output_type": "display_data"
    }
   ],
   "source": [
    "# Make new confusion matrices to eventually plot\n",
    "cnf_matrix3 = confusion_matrix(y, high_recall)\n",
    "cnf_matrix4 = confusion_matrix(y, high_precision)\n",
    "cnf_matrix5 = confusion_matrix(y, just_right)\n",
    "\n",
    "# Conf matrix on all data\n",
    "fig, ((ax1, ax2), (ax3, ax4)) = plt.subplots(2, 2, figsize=(12,10), sharex='col', sharey='row')\n",
    "sns.heatmap(cnf_matrix2, annot=True, fmt='g', ax=ax1, cbar=False)\n",
    "sns.heatmap(cnf_matrix3, annot=True, fmt='g', ax=ax2, cbar=False)\n",
    "sns.heatmap(cnf_matrix4, annot=True, fmt='g', ax=ax3, cbar=False)\n",
    "ax4.axis('off')\n",
    "\n",
    "ax1.set_title('Original CM')\n",
    "ax2.set_title('High Recall')\n",
    "ax3.set_title('High Precision')\n",
    "\n",
    "ax.set_xticklabels(['Low Salary', 'High Salary'], fontsize=14)\n",
    "ax.set_yticklabels(['High Salary', 'Low Salary'], fontsize=14, rotation='horizontal')\n",
    "plt.show()"
   ]
  },
  {
   "cell_type": "code",
   "execution_count": 295,
   "metadata": {},
   "outputs": [
    {
     "data": {
      "image/png": "[encoded data removed]",
      "text/plain": [
       "<matplotlib.figure.Figure at 0xd4ec4a8>"
      ]
     },
     "metadata": {},
     "output_type": "display_data"
    }
   ],
   "source": [
    "from sklearn.metrics import roc_curve, auc\n",
    "\n",
    "# For class 1, find the area under the curve\n",
    "fpr, tpr, _ = roc_curve(data.High_salary, pp.High_Salary_pp)\n",
    "roc_auc = auc(fpr, tpr)\n",
    "\n",
    "# Plot of a ROC curve for class 1 (Has high salary)\n",
    "plt.figure(figsize=[8,8])\n",
    "plt.plot(fpr, tpr, label='ROC curve (area = %0.2f)' % roc_auc, linewidth=4)\n",
    "plt.plot([0, 1], [0, 1], 'k--', linewidth=4)\n",
    "plt.xlim([-0.05, 1.0])\n",
    "plt.ylim([-0.05, 1.05])\n",
    "plt.xlabel('False Positive Rate', fontsize=18)\n",
    "plt.ylabel('True Positive Rate', fontsize=18)\n",
    "plt.title('Receiver operating characteristic for High Salary', fontsize=18)\n",
    "plt.legend(loc=\"lower right\")\n",
    "\n",
    "# Plot FPR vs TPR of total data set and adjusted\n",
    "plt.plot(36./(1730),(831./(994)), marker='o', color='red', markersize=20)\n",
    "plt.plot(99./(1730),(897./(994)), marker='o', color='green', markersize=20)\n",
    "plt.legend(['ROC Curve', 'Baseline', 'Current Rate', 'High Recall'])\n",
    "plt.show()"
   ]
  }
 ],
 "metadata": {
  "kernelspec": {
   "display_name": "Python 2",
   "language": "python",
   "name": "python2"
  },
  "language_info": {
   "codemirror_mode": {
    "name": "ipython",
    "version": 2
   },
   "file_extension": ".py",
   "mimetype": "text/x-python",
   "name": "python",
   "nbconvert_exporter": "python",
   "pygments_lexer": "ipython2",
   "version": "2.7.13"
  }
 },
 "nbformat": 4,
 "nbformat_minor": 2
}
